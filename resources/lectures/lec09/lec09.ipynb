{
 "cells": [
  {
   "cell_type": "code",
   "execution_count": 1,
   "id": "8c8a44b8",
   "metadata": {
    "slideshow": {
     "slide_type": "skip"
    }
   },
   "outputs": [],
   "source": [
    "from dsc80_utils import *\n",
    "\n",
    "# For the JSON evaluation example.\n",
    "def err():\n",
    "    raise ValueError('i just deleted all your files lol 😂')"
   ]
  },
  {
   "cell_type": "markdown",
   "id": "ce9e66d9",
   "metadata": {
    "slideshow": {
     "slide_type": "slide"
    }
   },
   "source": [
    "# Lecture 9 – HTTP, Midterm Review\n",
    "\n",
    "## DSC 80, Fall 2024"
   ]
  },
  {
   "cell_type": "markdown",
   "id": "22824200",
   "metadata": {
    "slideshow": {
     "slide_type": "slide"
    }
   },
   "source": [
    "### Announcements 📣\n",
    "\n",
    "- Lab 4 is due tomorrow.\n",
    "- The Midterm Exam is **next week**.\n",
    "- Project 2 is due Tuesday."
   ]
  },
  {
   "cell_type": "markdown",
   "id": "dbabdc2d",
   "metadata": {
    "slideshow": {
     "slide_type": "slide"
    }
   },
   "source": [
    "### Midterm Exam 📝\n",
    "\n",
    "**Next week during your scheduled midterm exam time in the CBTF.**\n",
    "\n",
    "- 45 minutes long. If you arrive late, you will get less time to complete your exam!\n",
    "- Normally, you are allowed to bring one double-sided 8.5\" x 11\" sheet of handwritten notes, but some of you mentioned that the CBTF doesn't allow this, so we're checking with them.\n",
    "    - If you aren't allowed to bring your own notes, we'll provide a reference page during the exam.\n",
    "- Covers Lectures 1-8 and all related assignments.\n",
    "- To review problems from old exams, go to [practice.dsc80.com](https://practice.dsc80.com).\n",
    "    - Also look at the [Resources](https://dsc80.com/resources) tab on the course website."
   ]
  },
  {
   "cell_type": "markdown",
   "id": "bd851d5b",
   "metadata": {
    "slideshow": {
     "slide_type": "slide"
    }
   },
   "source": [
    "### Agenda 📆\n",
    "\n",
    "- Introduction to HTTP.\n",
    "- Making HTTP requests.\n",
    "- Data formats.\n",
    "- APIs and web scraping.\n",
    "- Midterm review."
   ]
  },
  {
   "cell_type": "markdown",
   "id": "acd1538f",
   "metadata": {
    "slideshow": {
     "slide_type": "slide"
    }
   },
   "source": [
    "## Introduction to HTTP"
   ]
  },
  {
   "cell_type": "markdown",
   "id": "9e1a2732",
   "metadata": {
    "slideshow": {
     "slide_type": "slide"
    }
   },
   "source": [
    "<center><img src=\"imgs/ds-lifecycle.svg\" width=\"60%\"></center>"
   ]
  },
  {
   "cell_type": "markdown",
   "id": "62270a93",
   "metadata": {
    "slideshow": {
     "slide_type": "slide"
    }
   },
   "source": [
    "### Data sources\n",
    "\n",
    "* Often, the data you need doesn't exist in \"clean\" `.csv` files.\n",
    "\n",
    "* **Solution**: Collect your own data!\n",
    "    - Design and administer your own survey or run an experiment.\n",
    "    - Find related data on the internet.\n",
    "\n",
    "- The internet contains **massive** amounts of historical record; for most questions you can think of, the answer exists somewhere on the internet."
   ]
  },
  {
   "cell_type": "markdown",
   "id": "ff801f12",
   "metadata": {
    "slideshow": {
     "slide_type": "slide"
    }
   },
   "source": [
    "### Collecting data from the internet\n",
    "\n",
    "- There are two ways to programmatically access data on the internet:\n",
    "    - through an API.\n",
    "    - by scraping.\n",
    "\n",
    "- We will discuss the differences between both approaches, but for now, the important part is that they **both use HTTP**."
   ]
  },
  {
   "cell_type": "markdown",
   "id": "d51a660f",
   "metadata": {
    "slideshow": {
     "slide_type": "slide"
    }
   },
   "source": [
    "### HTTP\n",
    "\n",
    "- HTTP stands for **Hypertext Transfer Protocol**.\n",
    "    - It was developed in 1989 by Tim Berners-Lee (and friends).\n",
    "\n",
    "- It is a **request-response** protocol.\n",
    "    - Protocol = set of rules.\n",
    "\n",
    "- HTTP allows...\n",
    "    - computers to talk to each other over a network.\n",
    "    - devices to fetch data from \"web servers.\"\n",
    "\n",
    "- The \"S\" in HTTPS stands for \"secure\"."
   ]
  },
  {
   "cell_type": "markdown",
   "id": "f5425cec",
   "metadata": {
    "slideshow": {
     "slide_type": "slide"
    }
   },
   "source": [
    "<center><img src='imgs/ucsd.png' width=750></center>\n",
    "\n",
    "UCSD was a node in ARPANET, the predecessor to the modern internet ([source](https://en.wikipedia.org/wiki/ARPANET#/media/File:Arpanet_map_1973.jpg/))."
   ]
  },
  {
   "cell_type": "markdown",
   "id": "a2dda4ff",
   "metadata": {
    "slideshow": {
     "slide_type": "slide"
    }
   },
   "source": [
    "### The request-response model\n",
    "\n",
    "HTTP follows the **request-response** model.\n",
    "\n",
    "<center><img src='imgs/req-response.png' width=500></center>\n",
    "\n",
    "- A <b><span style=\"color:blue\">request</span></b> is made by the <b><span style=\"color:blue\">client</span></b>.\n",
    "\n",
    "- A <b><span style=\"color:orange\">response</span></b> is returned by the <b><span style=\"color:orange\">server</span></b>.\n",
    "\n",
    "- **Example**: YouTube search 🎥.\n",
    "    - Consider the following URL: https://www.youtube.com/results?search_query=apple+vision+pro.\n",
    "    - Your web browser, a **client**, makes an HTTP **request** with a search query.\n",
    "    - The **server**, YouTube, is a computer that is sitting somewhere else.\n",
    "    - The server returns a **response** that contains the search results.\n",
    "    - Note: ?search_query=apple+vision+pro is called a \"query string.\""
   ]
  },
  {
   "cell_type": "markdown",
   "id": "729671b6",
   "metadata": {
    "slideshow": {
     "slide_type": "slide"
    }
   },
   "source": [
    "### Request methods\n",
    "\n",
    "The request methods you will use most often are `GET` and `POST`; see [Mozilla's web docs](https://developer.mozilla.org/en-US/docs/Web/HTTP/Methods) for a detailed list of request methods.    \n",
    "\n",
    "- `GET` is used to request data **from** a specified resource.\n",
    "\n",
    "- `POST` is used to **send** data to the server. \n",
    "    - For example, uploading a photo to Instagram or entering credit card information on Amazon."
   ]
  },
  {
   "cell_type": "markdown",
   "id": "bcc2a6ab",
   "metadata": {
    "slideshow": {
     "slide_type": "slide"
    }
   },
   "source": [
    "### Example `GET` request\n",
    "\n",
    "Below is an example `GET` HTTP request made by a browser when accessing [datascience.ucsd.edu](https://datascience.ucsd.edu).\n",
    "\n",
    "```HTTP\n",
    "GET / HTTP/1.1\n",
    "Connection: keep-alive\n",
    "Host: datascience.ucsd.edu\n",
    "User-Agent: Mozilla/5.0 (Macintosh; Intel Mac OS X 10_15_7) AppleWebKit/537.36 (KHTML, like Gecko) Chrome/121.0.0.0 Safari/537.36\n",
    "sec-ch-ua: \"Chromium\";v=\"121\", \"Not A(Brand\";v=\"99\"\n",
    "sec-ch-ua-platform: \"macOS\"\n",
    "```\n",
    "\n",
    "- The first line (`GET / HTTP/1.1`) is called the \"request line\", and the lines afterwards are called \"header fields\". Header fields contain metadata. \n",
    "\n",
    "- We _could_ also provide a \"body\" after the header fields.\n",
    "\n",
    "- To see HTTP requests in Google Chrome, follow [these steps](https://mkyong.com/computer-tips/how-to-view-http-headers-in-google-chrome/)."
   ]
  },
  {
   "cell_type": "markdown",
   "id": "5546a534",
   "metadata": {
    "slideshow": {
     "slide_type": "slide"
    }
   },
   "source": [
    "### Example `GET` response\n",
    "\n",
    "The response below was generated by executing the request on the previous slide.\n",
    "\n",
    "```HTTP\n",
    "HTTP/1.1 200 OK\n",
    "Date: Sun, 04 Feb 2024 17:35:01 GMT\n",
    "Server: Apache\n",
    "X-Powered-By: PHP/7.4.33\n",
    "Link: <https://datascience.ucsd.edu/wp-json/>; rel=\"https://api.w.org/\"\n",
    "Link: <https://datascience.ucsd.edu/wp-json/wp/v2/pages/113>; rel=\"alternate\"; type=\"application/json\"\n",
    "...\n",
    "\n",
    "<html lang=\"en-US\">\n",
    "    <head>\n",
    "        <meta charset=\"UTF-8\">\n",
    "        <meta name=\"viewport\" content=\"width=device-width, initial-scale=1.0\"/>\n",
    "        <meta http-equiv=\"X-UA-Compatible\" content=\"IE=edge\">\n",
    "        <link rel=\"profile\" href=\"https://gmpg.org/xfn/11\"/>\n",
    "        <title>Halıcıoğlu Data Science Institute &#8211;UC San Diego</title>\n",
    "        <script>\n",
    "...\n",
    "```"
   ]
  },
  {
   "cell_type": "markdown",
   "id": "e5c9eb92",
   "metadata": {
    "slideshow": {
     "slide_type": "slide"
    }
   },
   "source": [
    "### Consequences of the request-response model\n",
    "\n",
    "- When a request is sent to view content on a webpage, the server must:\n",
    "    - process your request (i.e. prepare data for the response).\n",
    "    - send content back to the client in its response.\n",
    "\n",
    "- Remember, servers are computers. \n",
    "    - Someone has to pay to keep these computers running.\n",
    "    - **This means that every time you access a website, someone has to pay.**"
   ]
  },
  {
   "cell_type": "markdown",
   "id": "9595b0c3",
   "metadata": {
    "slideshow": {
     "slide_type": "slide"
    }
   },
   "source": [
    "## Making HTTP requests"
   ]
  },
  {
   "cell_type": "markdown",
   "id": "00a3e380",
   "metadata": {
    "slideshow": {
     "slide_type": "slide"
    }
   },
   "source": [
    "### Making HTTP requests\n",
    "\n",
    "There are (at least) two ways to make HTTP requests outside of a browser:\n",
    "\n",
    "- From the command line, with `curl`.\n",
    "\n",
    "- **From Python, with the `requests` package.**"
   ]
  },
  {
   "cell_type": "markdown",
   "id": "5c0bd625",
   "metadata": {
    "slideshow": {
     "slide_type": "slide"
    }
   },
   "source": [
    "### Making HTTP requests using `requests`\n",
    "\n",
    "- `requests` is a Python module that allows you to use Python to interact with the internet!  \n",
    "- There are other packages that work similarly (e.g. `urllib`), but `requests` is arguably the easiest to use."
   ]
  },
  {
   "cell_type": "code",
   "execution_count": 2,
   "id": "d79da8ad",
   "metadata": {},
   "outputs": [],
   "source": [
    "import requests"
   ]
  },
  {
   "cell_type": "markdown",
   "id": "fa03e447",
   "metadata": {
    "slideshow": {
     "slide_type": "slide"
    }
   },
   "source": [
    "### Example: `GET` requests via `requests`\n",
    "\n",
    "For instance, let's access the source code of the UCSD homepage, https://ucsd.edu."
   ]
  },
  {
   "cell_type": "code",
   "execution_count": 3,
   "id": "a03b40f2",
   "metadata": {},
   "outputs": [],
   "source": [
    "res = requests.get('https://ucsd.edu')"
   ]
  },
  {
   "cell_type": "markdown",
   "id": "17f3fe8e",
   "metadata": {
    "slideshow": {
     "slide_type": "fragment"
    }
   },
   "source": [
    "`res` is now a `Response` object."
   ]
  },
  {
   "cell_type": "code",
   "execution_count": 4,
   "id": "f314829f",
   "metadata": {},
   "outputs": [
    {
     "data": {
      "text/plain": [
       "<Response [200]>"
      ]
     },
     "execution_count": 4,
     "metadata": {},
     "output_type": "execute_result"
    }
   ],
   "source": [
    "res"
   ]
  },
  {
   "cell_type": "markdown",
   "id": "b3b1def6",
   "metadata": {
    "slideshow": {
     "slide_type": "fragment"
    }
   },
   "source": [
    "The `text` attribute of `res` is a string that containing the entire response."
   ]
  },
  {
   "cell_type": "code",
   "execution_count": 5,
   "id": "527ca37e",
   "metadata": {},
   "outputs": [
    {
     "data": {
      "text/plain": [
       "str"
      ]
     },
     "execution_count": 5,
     "metadata": {},
     "output_type": "execute_result"
    }
   ],
   "source": [
    "type(res.text)"
   ]
  },
  {
   "cell_type": "code",
   "execution_count": 6,
   "id": "024fe0e1",
   "metadata": {},
   "outputs": [
    {
     "data": {
      "text/plain": [
       "57775"
      ]
     },
     "execution_count": 6,
     "metadata": {},
     "output_type": "execute_result"
    }
   ],
   "source": [
    "len(res.text)"
   ]
  },
  {
   "cell_type": "code",
   "execution_count": 7,
   "id": "2b792ad1",
   "metadata": {},
   "outputs": [
    {
     "name": "stdout",
     "output_type": "stream",
     "text": [
      "<!DOCTYPE html>\n",
      "<html lang=\"en\">\n",
      "  <head>\n",
      "  \n",
      "  \n",
      "\n",
      " \n",
      "\n",
      "\n",
      "\n",
      "\n",
      "\n",
      "    <meta charset=\"utf-8\"/>\n",
      "    <meta content=\"IE=edge\" http-equiv=\"X-UA-Compatible\"/>\n",
      "    <meta content=\"width=device-width, initial-scale=1\" name=\"viewport\"/>\n",
      "    <title>University of California San Diego</title>\n",
      "    <meta content=\"University of California, San Diego\" name=\"ORGANIZATION\"/>\n",
      "    <meta content=\"index,follow,noarchive\" name=\"robots\"/>\n",
      "    <meta content=\"UCSD\" name=\"SITE\"/>\n",
      "    <meta content=\"University of California San Diego\" name=\"PAGETITLE\"/>\n",
      "    <meta content=\"The University California San Diego is one of the world's leading public research universities, located in beautiful La Jolla, California\" name=\"DESCRIPTION\"/>\n",
      "    <link href=\"favicon.ico\" rel=\"icon\"/>\n",
      "\n",
      "\n",
      "    \n",
      "  \n",
      "\n",
      "\n",
      "\n",
      "\n",
      "<!-- Site-specific CSS files -->\n",
      "    \n",
      "  <link href=\"https://www.ucsd.edu/_resources/css/vendor/brix_sans.css\" rel=\"stylesheet\" type=\"text/css\"/>\n",
      "  <link href=\"https://www.ucsd.edu/_resources/css/vendor/refrigerator_deluxe.css\" rel=\"stylesheet\" \n"
     ]
    }
   ],
   "source": [
    "print(res.text[:1000])"
   ]
  },
  {
   "cell_type": "markdown",
   "id": "b812c6fd",
   "metadata": {
    "slideshow": {
     "slide_type": "slide"
    }
   },
   "source": [
    "### Example: `POST` requests via `requests`\n",
    "\n",
    "The following call to `requests.post` makes a post request to https://httpbin.org/post, with a `'name'` parameter of `'King Triton'`."
   ]
  },
  {
   "cell_type": "code",
   "execution_count": 8,
   "id": "b6522677",
   "metadata": {},
   "outputs": [
    {
     "data": {
      "text/plain": [
       "<Response [200]>"
      ]
     },
     "execution_count": 8,
     "metadata": {},
     "output_type": "execute_result"
    }
   ],
   "source": [
    "post_res = requests.post('https://httpbin.org/post',\n",
    "                         data={'name': 'King Triton'})\n",
    "post_res"
   ]
  },
  {
   "cell_type": "code",
   "execution_count": 9,
   "id": "c8fc5dc1",
   "metadata": {},
   "outputs": [
    {
     "data": {
      "text/plain": [
       "'{\\n  \"args\": {}, \\n  \"data\": \"\", \\n  \"files\": {}, \\n  \"form\": {\\n    \"name\": \"King Triton\"\\n  }, \\n  \"headers\": {\\n    \"Accept\": \"*/*\", \\n    \"Accept-Encoding\": \"gzip, deflate, br, zstd\", \\n    \"Content-Length\": \"16\", \\n    \"Content-Type\": \"application/x-www-form-urlencoded\", \\n    \"Host\": \"httpbin.org\", \\n    \"User-Agent\": \"python-requests/2.32.3\", \\n    \"X-Amzn-Trace-Id\": \"Root=1-6719e9b1-68a18e87754ef5731cc50e32\"\\n  }, \\n  \"json\": null, \\n  \"origin\": \"107.200.89.148\", \\n  \"url\": \"https://httpbin.org/post\"\\n}\\n'"
      ]
     },
     "execution_count": 9,
     "metadata": {},
     "output_type": "execute_result"
    }
   ],
   "source": [
    "post_res.text"
   ]
  },
  {
   "cell_type": "code",
   "execution_count": 10,
   "id": "6c289e1a",
   "metadata": {
    "slideshow": {
     "slide_type": "fragment"
    }
   },
   "outputs": [
    {
     "data": {
      "text/plain": [
       "{'args': {},\n",
       " 'data': '',\n",
       " 'files': {},\n",
       " 'form': {'name': 'King Triton'},\n",
       " 'headers': {'Accept': '*/*',\n",
       "  'Accept-Encoding': 'gzip, deflate, br, zstd',\n",
       "  'Content-Length': '16',\n",
       "  'Content-Type': 'application/x-www-form-urlencoded',\n",
       "  'Host': 'httpbin.org',\n",
       "  'User-Agent': 'python-requests/2.32.3',\n",
       "  'X-Amzn-Trace-Id': 'Root=1-6719e9b1-68a18e87754ef5731cc50e32'},\n",
       " 'json': None,\n",
       " 'origin': '107.200.89.148',\n",
       " 'url': 'https://httpbin.org/post'}"
      ]
     },
     "execution_count": 10,
     "metadata": {},
     "output_type": "execute_result"
    }
   ],
   "source": [
    "# More on this shortly!\n",
    "post_res.json()"
   ]
  },
  {
   "cell_type": "markdown",
   "id": "e3d264eb",
   "metadata": {
    "slideshow": {
     "slide_type": "slide"
    }
   },
   "source": [
    "What happens when we try and make a `POST` request somewhere where we're unable to?"
   ]
  },
  {
   "cell_type": "code",
   "execution_count": 11,
   "id": "f0d389b8",
   "metadata": {},
   "outputs": [
    {
     "data": {
      "text/plain": [
       "<Response [400]>"
      ]
     },
     "execution_count": 11,
     "metadata": {},
     "output_type": "execute_result"
    }
   ],
   "source": [
    "yt_res = requests.post('https://youtube.com',\n",
    "                       data={'name': 'King Triton'})\n",
    "yt_res"
   ]
  },
  {
   "cell_type": "code",
   "execution_count": 12,
   "id": "8b1aac4f",
   "metadata": {},
   "outputs": [
    {
     "data": {
      "text/plain": [
       "'<html lang=\"en\" dir=\"ltr\"><head><title>Oops</title><style nonce=\"HiYLXPWy3m7TVmsaqXzwbA\">html{font-family:Roboto,Arial,sans-serif;font-size:14px}body{background-color:#f9f9f9;margin:0}#content{max-width:440px;margin:128px auto}svg{display:block;pointer-events:none}#monkey{width:280px;margin:0 auto}h1,p{text-align:center;margin:0;color:#131313}h1{padding:24px 0 8px;font-size:24px;font-weight:400}p{line-height:21px}sentinel{}</style><link rel=\"shortcut icon\" href=\"https://www.youtube.com/img/favicon.ico\" type=\"image/x-icon\"><link rel=\"icon\" href=\"https://www.youtube.com/img/favicon_32.png\" sizes=\"32x32\"><link rel=\"icon\" href=\"https://www.youtube.com/img/favicon_48.png\" sizes=\"48x48\"><link rel=\"icon\" href=\"https://www.youtube.com/img/favicon_96.png\" sizes=\"96x96\"><link rel=\"icon\" href=\"https://www.youtube.com/img/favicon_144.png\" sizes=\"144x144\"></head><body><div id=\"content\"><h1>Something went wrong</h1><p><svg id=\"monkey\" viewBox=\"0 0 490 525\"><path fill=\"#6A1B9A\" d=\"M325 85c1 12-1 25-5 38-8 29-31 52-60 61-26 8-54 14-81 18-37 6-26-37-38-72l-4-4c0-17-9-33 4-37l33-4c9-2 9-21 11-30 1-7 3-14 5-21 8-28 40-42 68-29 18 9 36 19 50 32 13 11 16 31 17 48z\"/><path fill=\"none\" stroke=\"#6A1B9A\" stroke-width=\"24\" stroke-linecap=\"round\" stroke-miterlimit=\"10\" d=\"M431 232c3 15 21 19 34 11 15-9 14-30 5-43-12-17-38-25-59-10-23 18-27 53-21 97s1 92-63 108\"/><path fill=\"#6A1B9A\" d=\"M284 158c35 40 63 85 86 133 24 52-6 113-62 123-2 0-4 1-6 1-53 9-101-33-101-87V188l83-30z\"/><path fill=\"#F7CB4D\" d=\"M95 152c-3-24 13-57 46-64l27-5c9-2 16-19 17-28l3-15 20-3c44 14 42 55 18 69 22 0 39 26 32 53-5 18-20 32-39 36-13 3-26 5-40 8-50 8-80-14-84-51z\"/><path fill=\"#6A1B9A\" d=\"M367 392c-21 18-77 70-25 119h-61c-27-29-32-69 1-111l85-8z\"/><path fill=\"#6A1B9A\" d=\"M289 399c-21 18-84 62-32 111h-61c-37-34-5-104 43-134l50 23z\"/><path fill=\"#EDB526\" d=\"M185 56l3-15 20-3c25 8 35 25 35 41-12-18-49-29-58-23z\"/><path fill=\"#E62117\" d=\"M190 34c8-28 40-42 68-29 18 9 36 19 50 32 10 9 14 23 16 37L187 46l3-12z\"/><path fill=\"#8E24AA\" d=\"M292 168c0 0 0 201 0 241s20 98 91 85l-16-54c-22 12-31-17-31-37 0-20 0-108 0-137S325 200 292 168z\"/><path fill=\"#F7CB4D\" d=\"M284 79c11-9 23-17 35-23 25-12 54 7 59 38v1c4 27-13 51-36 53-12 1-25 1-37 0-22-1-39-27-32-52v-1c2-6 6-12 11-16z\"/><path fill=\"#6A1B9A\" d=\"M201 203s0 84-95 140l22 42s67-25 89-86-16-96-16-96z\"/><path fill=\"#BE2117\" d=\"M224 54l-67-14c-10-2-13-15-5-21s18-6 26 0l46 35z\"/><circle fill=\"#4A148C\" cx=\"129\" cy=\"161\" r=\"12\"/><circle fill=\"#4A148C\" cx=\"212\" cy=\"83\" r=\"7\"/><circle fill=\"#4A148C\" cx=\"189\" cy=\"79\" r=\"7\"/><path fill=\"#F7CB4D\" d=\"M383 493c11-3 19-8 25-13 7-10 4-16-5-20 8-9 2-22-8-18 1-1 1-2 1-3 3-9-9-15-15-8-3 4-8 7-13 9l15 53z\"/><path fill=\"#EDB526\" d=\"M252 510c5 6 0 15-9 15h-87c-10 0-16-8-13-15 5-12 21-19 36-16l73 16z\"/><ellipse transform=\"rotate(19.126 278.35 14.787)\" fill=\"#E62117\" cx=\"278\" cy=\"15\" rx=\"9\" ry=\"7\"/><path fill=\"#F7CB4D\" d=\"M341 510c5 6 0 15-9 15h-87c-10 0-16-8-13-15 5-12 21-19 36-16l73 16z\"/><path fill=\"#EDB526\" d=\"M357 90c-12-19-35-23-55-11-19 12-25 32-13 52\"/><path fill=\"#E62117\" d=\"M110 427l21-9c5-2 7-8 5-13l-42-94c-3-6-9-9-15-6l-11 5c-6 2-9 9-7 15l36 97c2 5 8 7 13 5z\"/><path fill=\"#B0BEC5\" d=\"M37 278l41-17c11-4 22-5 33-1 5 2 10 4 14 6 6 3 4 11-3 11-9 0-18 1-26 3l2 12c1 6-2 11-8 13l-36 15c-5 2-10 1-14-2l-9-7-2 17c0 2-2 4-4 5l-3 1c-3 1-7 0-8-3L1 300c-1-3 0-7 4-9l4-2c2-1 5 0 7 1l12 10 1-11c0-5 3-9 8-11z\"/><path fill=\"#F7CB4D\" d=\"M103 373c10 2 14 10 8 19 6-1 10 4 10 9 0 3-3 6-6 7l-26 11c-2 1-5 1-8 0-6-3-7-9-2-16-7-1-13-9-6-17-8-1-12-8-8-15l3-3 23-11c9-4 19 8 12 16z\"/><ellipse transform=\"rotate(173.3 233.455 334.51)\" fill=\"#8E24AA\" cx=\"234\" cy=\"335\" rx=\"32\" ry=\"46\"/></svg></p><style nonce=\"HiYLXPWy3m7TVmsaqXzwbA\">#yt-masthead{margin:15px auto;width:440px;margin-top:25px}#logo-container{margin-right:5px;float:left;cursor:pointer;text-decoration:none}.logo{background:no-repeat url(//www.gstatic.com/youtube/img/branding/youtubelogo/1x/youtubelogo_30.png);width:125px;height:30px;cursor:pointer;display:inline-block}#masthead-search{display:-webkit-box;display:-webkit-flex;display:flex;margin-top:3px;max-width:650px;overflow:hidden;padding:0;position:relative}.search-button{border-left:0;border-top-left-radius:0;border-bottom-left-radius:0;float:right;height:29px;padding:0;border:solid 1px transparent;border-color:#d3d3d3;background:#f8f8f8;color:#333;cursor:pointer}.search-button:hover{border-color:#c6c6c6;background:#f0f0f0;-webkit-box-shadow:0 1px 0 rgba(0,0,0,.1);box-shadow:0 1px 0 rgba(0,0,0,.1)}.search-button-content{border:none;display:block;opacity:.6;padding:0;text-indent:-10000px;background:no-repeat url(//www.gstatic.com/youtube/src/web/htdocs/img/search.png);-webkit-background-size:auto auto;background-size:auto;width:15px;height:15px;-webkit-box-shadow:none;box-shadow:none;margin:0 25px}#masthead-search-terms-border{-webkit-box-flex:1;-webkit-flex:1 1 auto;flex:1 1 auto;border:1px solid #ccc;-webkit-box-shadow:inset 0 1px 2px #eee;box-shadow:inset 0 1px 2px #eee;background-color:#fff;font-size:14px;height:29px;line-height:30px;margin:0 0 2px;overflow:hidden;position:relative;-webkit-box-sizing:border-box;box-sizing:border-box;-webkit-transition:border-color .2s ease;transition:border-color .2s ease}#masthead-search-terms{background:transparent;border:0;font-size:16px;height:100%;left:0;margin:0;outline:none;padding:2px 6px;position:absolute;width:100%;-webkit-box-sizing:border-box;box-sizing:border-box}sentinel{}</style><div id=\"yt-masthead\"><a id=\"logo-container\" href=\"https://www.youtube.com/\" title=\"YouTube home\"><span class=\"logo\" title=\"YouTube home\"></span></a><form id=\"masthead-search\" class=\"search-form\" action=\"https://www.youtube.com/results\"><script nonce=\"DfewZWfK8mB-atgZaKBA5w\">document.addEventListener(\\'DOMContentLoaded\\', function () {document.getElementById(\\'masthead-search\\').addEventListener(\\'submit\\', function(e) {if (document.getElementById(\\'masthead-search-terms\\').value == \\'\\') {e.preventDefault();}});});</script><div id=\"masthead-search-terms-border\" dir=\"ltr\"><input id=\"masthead-search-terms\" autocomplete=\"off\" name=\"search_query\" value=\"\" type=\"text\" placeholder=\"Search\" title=\"Search\" aria-label=\"Search\"><script nonce=\"DfewZWfK8mB-atgZaKBA5w\">document.addEventListener(\\'DOMContentLoaded\\', function () {document.getElementById(\\'masthead-search-terms\\').addEventListener(\\'keydown\\', function() {if (!this.value && (event.keyCode == 40 || event.keyCode == 32 || event.keyCode == 34)) {this.onkeydown = null; this.blur();}});});</script></div><button id=\"masthead-search-button\" class=\"search-button\" type=\"submit\" dir=\"ltr\"><script nonce=\"DfewZWfK8mB-atgZaKBA5w\">document.addEventListener(\\'DOMContentLoaded\\', function () {document.getElementById(\\'masthead-search-button\\').addEventListener(\\'click\\', function(e) {if (document.getElementById(\\'masthead-search-terms\\').value == \\'\\') {e.preventDefault(); return;}e.preventDefault(); document.getElementById(\\'masthead-search\\').submit();});});</script><span class=\"search-button-content\">Search</span></button></form></div></div></body></html>'"
      ]
     },
     "execution_count": 12,
     "metadata": {},
     "output_type": "execute_result"
    }
   ],
   "source": [
    "yt_res.text"
   ]
  },
  {
   "cell_type": "markdown",
   "id": "c0e99fa7",
   "metadata": {
    "slideshow": {
     "slide_type": "fragment"
    }
   },
   "source": [
    "`yt_res.text` is a string containing HTML – we can render this in-line using `IPython.display.HTML`."
   ]
  },
  {
   "cell_type": "code",
   "execution_count": 13,
   "id": "c91edd27",
   "metadata": {},
   "outputs": [],
   "source": [
    "from IPython.display import HTML"
   ]
  },
  {
   "cell_type": "code",
   "execution_count": 14,
   "id": "ec9c5220",
   "metadata": {},
   "outputs": [
    {
     "data": {
      "text/html": [
       "<html lang=\"en\" dir=\"ltr\"><head><title>Oops</title><style nonce=\"HiYLXPWy3m7TVmsaqXzwbA\">html{font-family:Roboto,Arial,sans-serif;font-size:14px}body{background-color:#f9f9f9;margin:0}#content{max-width:440px;margin:128px auto}svg{display:block;pointer-events:none}#monkey{width:280px;margin:0 auto}h1,p{text-align:center;margin:0;color:#131313}h1{padding:24px 0 8px;font-size:24px;font-weight:400}p{line-height:21px}sentinel{}</style><link rel=\"shortcut icon\" href=\"https://www.youtube.com/img/favicon.ico\" type=\"image/x-icon\"><link rel=\"icon\" href=\"https://www.youtube.com/img/favicon_32.png\" sizes=\"32x32\"><link rel=\"icon\" href=\"https://www.youtube.com/img/favicon_48.png\" sizes=\"48x48\"><link rel=\"icon\" href=\"https://www.youtube.com/img/favicon_96.png\" sizes=\"96x96\"><link rel=\"icon\" href=\"https://www.youtube.com/img/favicon_144.png\" sizes=\"144x144\"></head><body><div id=\"content\"><h1>Something went wrong</h1><p><svg id=\"monkey\" viewBox=\"0 0 490 525\"><path fill=\"#6A1B9A\" d=\"M325 85c1 12-1 25-5 38-8 29-31 52-60 61-26 8-54 14-81 18-37 6-26-37-38-72l-4-4c0-17-9-33 4-37l33-4c9-2 9-21 11-30 1-7 3-14 5-21 8-28 40-42 68-29 18 9 36 19 50 32 13 11 16 31 17 48z\"/><path fill=\"none\" stroke=\"#6A1B9A\" stroke-width=\"24\" stroke-linecap=\"round\" stroke-miterlimit=\"10\" d=\"M431 232c3 15 21 19 34 11 15-9 14-30 5-43-12-17-38-25-59-10-23 18-27 53-21 97s1 92-63 108\"/><path fill=\"#6A1B9A\" d=\"M284 158c35 40 63 85 86 133 24 52-6 113-62 123-2 0-4 1-6 1-53 9-101-33-101-87V188l83-30z\"/><path fill=\"#F7CB4D\" d=\"M95 152c-3-24 13-57 46-64l27-5c9-2 16-19 17-28l3-15 20-3c44 14 42 55 18 69 22 0 39 26 32 53-5 18-20 32-39 36-13 3-26 5-40 8-50 8-80-14-84-51z\"/><path fill=\"#6A1B9A\" d=\"M367 392c-21 18-77 70-25 119h-61c-27-29-32-69 1-111l85-8z\"/><path fill=\"#6A1B9A\" d=\"M289 399c-21 18-84 62-32 111h-61c-37-34-5-104 43-134l50 23z\"/><path fill=\"#EDB526\" d=\"M185 56l3-15 20-3c25 8 35 25 35 41-12-18-49-29-58-23z\"/><path fill=\"#E62117\" d=\"M190 34c8-28 40-42 68-29 18 9 36 19 50 32 10 9 14 23 16 37L187 46l3-12z\"/><path fill=\"#8E24AA\" d=\"M292 168c0 0 0 201 0 241s20 98 91 85l-16-54c-22 12-31-17-31-37 0-20 0-108 0-137S325 200 292 168z\"/><path fill=\"#F7CB4D\" d=\"M284 79c11-9 23-17 35-23 25-12 54 7 59 38v1c4 27-13 51-36 53-12 1-25 1-37 0-22-1-39-27-32-52v-1c2-6 6-12 11-16z\"/><path fill=\"#6A1B9A\" d=\"M201 203s0 84-95 140l22 42s67-25 89-86-16-96-16-96z\"/><path fill=\"#BE2117\" d=\"M224 54l-67-14c-10-2-13-15-5-21s18-6 26 0l46 35z\"/><circle fill=\"#4A148C\" cx=\"129\" cy=\"161\" r=\"12\"/><circle fill=\"#4A148C\" cx=\"212\" cy=\"83\" r=\"7\"/><circle fill=\"#4A148C\" cx=\"189\" cy=\"79\" r=\"7\"/><path fill=\"#F7CB4D\" d=\"M383 493c11-3 19-8 25-13 7-10 4-16-5-20 8-9 2-22-8-18 1-1 1-2 1-3 3-9-9-15-15-8-3 4-8 7-13 9l15 53z\"/><path fill=\"#EDB526\" d=\"M252 510c5 6 0 15-9 15h-87c-10 0-16-8-13-15 5-12 21-19 36-16l73 16z\"/><ellipse transform=\"rotate(19.126 278.35 14.787)\" fill=\"#E62117\" cx=\"278\" cy=\"15\" rx=\"9\" ry=\"7\"/><path fill=\"#F7CB4D\" d=\"M341 510c5 6 0 15-9 15h-87c-10 0-16-8-13-15 5-12 21-19 36-16l73 16z\"/><path fill=\"#EDB526\" d=\"M357 90c-12-19-35-23-55-11-19 12-25 32-13 52\"/><path fill=\"#E62117\" d=\"M110 427l21-9c5-2 7-8 5-13l-42-94c-3-6-9-9-15-6l-11 5c-6 2-9 9-7 15l36 97c2 5 8 7 13 5z\"/><path fill=\"#B0BEC5\" d=\"M37 278l41-17c11-4 22-5 33-1 5 2 10 4 14 6 6 3 4 11-3 11-9 0-18 1-26 3l2 12c1 6-2 11-8 13l-36 15c-5 2-10 1-14-2l-9-7-2 17c0 2-2 4-4 5l-3 1c-3 1-7 0-8-3L1 300c-1-3 0-7 4-9l4-2c2-1 5 0 7 1l12 10 1-11c0-5 3-9 8-11z\"/><path fill=\"#F7CB4D\" d=\"M103 373c10 2 14 10 8 19 6-1 10 4 10 9 0 3-3 6-6 7l-26 11c-2 1-5 1-8 0-6-3-7-9-2-16-7-1-13-9-6-17-8-1-12-8-8-15l3-3 23-11c9-4 19 8 12 16z\"/><ellipse transform=\"rotate(173.3 233.455 334.51)\" fill=\"#8E24AA\" cx=\"234\" cy=\"335\" rx=\"32\" ry=\"46\"/></svg></p><style nonce=\"HiYLXPWy3m7TVmsaqXzwbA\">#yt-masthead{margin:15px auto;width:440px;margin-top:25px}#logo-container{margin-right:5px;float:left;cursor:pointer;text-decoration:none}.logo{background:no-repeat url(//www.gstatic.com/youtube/img/branding/youtubelogo/1x/youtubelogo_30.png);width:125px;height:30px;cursor:pointer;display:inline-block}#masthead-search{display:-webkit-box;display:-webkit-flex;display:flex;margin-top:3px;max-width:650px;overflow:hidden;padding:0;position:relative}.search-button{border-left:0;border-top-left-radius:0;border-bottom-left-radius:0;float:right;height:29px;padding:0;border:solid 1px transparent;border-color:#d3d3d3;background:#f8f8f8;color:#333;cursor:pointer}.search-button:hover{border-color:#c6c6c6;background:#f0f0f0;-webkit-box-shadow:0 1px 0 rgba(0,0,0,.1);box-shadow:0 1px 0 rgba(0,0,0,.1)}.search-button-content{border:none;display:block;opacity:.6;padding:0;text-indent:-10000px;background:no-repeat url(//www.gstatic.com/youtube/src/web/htdocs/img/search.png);-webkit-background-size:auto auto;background-size:auto;width:15px;height:15px;-webkit-box-shadow:none;box-shadow:none;margin:0 25px}#masthead-search-terms-border{-webkit-box-flex:1;-webkit-flex:1 1 auto;flex:1 1 auto;border:1px solid #ccc;-webkit-box-shadow:inset 0 1px 2px #eee;box-shadow:inset 0 1px 2px #eee;background-color:#fff;font-size:14px;height:29px;line-height:30px;margin:0 0 2px;overflow:hidden;position:relative;-webkit-box-sizing:border-box;box-sizing:border-box;-webkit-transition:border-color .2s ease;transition:border-color .2s ease}#masthead-search-terms{background:transparent;border:0;font-size:16px;height:100%;left:0;margin:0;outline:none;padding:2px 6px;position:absolute;width:100%;-webkit-box-sizing:border-box;box-sizing:border-box}sentinel{}</style><div id=\"yt-masthead\"><a id=\"logo-container\" href=\"https://www.youtube.com/\" title=\"YouTube home\"><span class=\"logo\" title=\"YouTube home\"></span></a><form id=\"masthead-search\" class=\"search-form\" action=\"https://www.youtube.com/results\"><script nonce=\"DfewZWfK8mB-atgZaKBA5w\">document.addEventListener('DOMContentLoaded', function () {document.getElementById('masthead-search').addEventListener('submit', function(e) {if (document.getElementById('masthead-search-terms').value == '') {e.preventDefault();}});});</script><div id=\"masthead-search-terms-border\" dir=\"ltr\"><input id=\"masthead-search-terms\" autocomplete=\"off\" name=\"search_query\" value=\"\" type=\"text\" placeholder=\"Search\" title=\"Search\" aria-label=\"Search\"><script nonce=\"DfewZWfK8mB-atgZaKBA5w\">document.addEventListener('DOMContentLoaded', function () {document.getElementById('masthead-search-terms').addEventListener('keydown', function() {if (!this.value && (event.keyCode == 40 || event.keyCode == 32 || event.keyCode == 34)) {this.onkeydown = null; this.blur();}});});</script></div><button id=\"masthead-search-button\" class=\"search-button\" type=\"submit\" dir=\"ltr\"><script nonce=\"DfewZWfK8mB-atgZaKBA5w\">document.addEventListener('DOMContentLoaded', function () {document.getElementById('masthead-search-button').addEventListener('click', function(e) {if (document.getElementById('masthead-search-terms').value == '') {e.preventDefault(); return;}e.preventDefault(); document.getElementById('masthead-search').submit();});});</script><span class=\"search-button-content\">Search</span></button></form></div></div></body></html>"
      ],
      "text/plain": [
       "<IPython.core.display.HTML object>"
      ]
     },
     "execution_count": 14,
     "metadata": {},
     "output_type": "execute_result"
    }
   ],
   "source": [
    "HTML(yt_res.text)"
   ]
  },
  {
   "cell_type": "markdown",
   "id": "c28709d4",
   "metadata": {
    "slideshow": {
     "slide_type": "slide"
    }
   },
   "source": [
    "### HTTP status codes"
   ]
  },
  {
   "cell_type": "markdown",
   "id": "e81a7a90",
   "metadata": {
    "slideshow": {
     "slide_type": "fragment"
    }
   },
   "source": [
    "- When we **request** data from a website, the server includes an **HTTP status code** in the response.  "
   ]
  },
  {
   "cell_type": "markdown",
   "id": "5ea3188f",
   "metadata": {
    "slideshow": {
     "slide_type": "fragment"
    }
   },
   "source": [
    "* The most common status code is `200`, which means there were no issues.  "
   ]
  },
  {
   "cell_type": "markdown",
   "id": "5c3d9fd7",
   "metadata": {
    "slideshow": {
     "slide_type": "fragment"
    }
   },
   "source": [
    "* Other times, you will see a different status code, describing some sort of event or error.\n",
    "    - Common examples: `400` – bad request, `404` – page not found, `500` – internal server error.\n",
    "    - [The first digit of a status describes its general \"category\".](https://developer.mozilla.org/en-US/docs/Web/HTTP/Status)"
   ]
  },
  {
   "cell_type": "markdown",
   "id": "f50b94ca",
   "metadata": {
    "slideshow": {
     "slide_type": "fragment"
    }
   },
   "source": [
    "- See [https://httpstat.us](https://httpstat.us/) for a list of all HTTP status codes.\n",
    "    - It also has example sites for each status code; for example, https://httpstat.us/404 returns a `404`."
   ]
  },
  {
   "cell_type": "code",
   "execution_count": 15,
   "id": "30581712",
   "metadata": {},
   "outputs": [
    {
     "data": {
      "text/plain": [
       "400"
      ]
     },
     "execution_count": 15,
     "metadata": {},
     "output_type": "execute_result"
    }
   ],
   "source": [
    "yt_res.status_code"
   ]
  },
  {
   "cell_type": "code",
   "execution_count": 16,
   "id": "5b4a334a",
   "metadata": {},
   "outputs": [
    {
     "data": {
      "text/plain": [
       "False"
      ]
     },
     "execution_count": 16,
     "metadata": {},
     "output_type": "execute_result"
    }
   ],
   "source": [
    "# ok checks if the result was successful.\n",
    "yt_res.ok"
   ]
  },
  {
   "cell_type": "markdown",
   "id": "55e049ef",
   "metadata": {
    "slideshow": {
     "slide_type": "slide"
    }
   },
   "source": [
    "### Handling unsuccessful requests\n",
    "\n",
    "- Unsuccessful requests can be re-tried, depending on the issue.\n",
    "    - A good first step is to wait a little, then try again.\n",
    "\n",
    "- A common issue is that you're making too many requests to a particular server at a time – if this is the case, increase the time between each request. You can even do this programatically, say, using `time.sleep`.\n",
    "\n",
    "- See the [textbook](https://learningds.org/ch/14/web_http.html) for more examples."
   ]
  },
  {
   "cell_type": "markdown",
   "id": "cc28c185",
   "metadata": {},
   "source": [
    "<div class=\"well\">\n",
    "    <h3>Ask <a href=\"https://chat.openai.com/\">ChatGPT</a>: 🧐</h3>\n",
    "    \n",
    "- To explain why the `requests` library is useful to learn.\n",
    "- To explain popular alternatives to the `requests` library and when you would prefer them to `requests`.\n",
    "</div>"
   ]
  },
  {
   "cell_type": "markdown",
   "id": "ec9ee3e1",
   "metadata": {
    "slideshow": {
     "slide_type": "slide"
    }
   },
   "source": [
    "<div class=\"alert alert-warning\">\n",
    "    <h3>Question 🤔 (Answer at <a href=\"https://dsc80.com/q\">dsc80.com/q</a>)</h3>\n",
    "\n",
    "Code: `req`\n",
    "</div>\n",
    "\n",
    "Use ChatGPT to write code using the `requests` library to get the HTML of the `pandas` homepage. If the HTTP request fails, your code should print an error message and the error code."
   ]
  },
  {
   "cell_type": "code",
   "execution_count": null,
   "id": "285bfe86",
   "metadata": {},
   "outputs": [],
   "source": []
  },
  {
   "cell_type": "markdown",
   "id": "9e447bab",
   "metadata": {
    "slideshow": {
     "slide_type": "slide"
    }
   },
   "source": [
    "## Data formats"
   ]
  },
  {
   "cell_type": "markdown",
   "id": "68142b5f",
   "metadata": {
    "slideshow": {
     "slide_type": "slide"
    }
   },
   "source": [
    "### The data formats of the internet\n",
    "\n",
    "Responses typically come in one of two formats: HTML or JSON.\n",
    "\n",
    "- The response body of a `GET` request is usually either JSON (when using an API) or HTML (when accessing a webpage).\n",
    "\n",
    "- The response body of a `POST` request is usually JSON.\n",
    "\n",
    "- XML is also a common format, but not as popular as it once was."
   ]
  },
  {
   "cell_type": "markdown",
   "id": "ebf8dfb3",
   "metadata": {
    "slideshow": {
     "slide_type": "slide"
    }
   },
   "source": [
    "<center><img src='imgs/json.png' width=50%></center>"
   ]
  },
  {
   "cell_type": "markdown",
   "id": "44796fee",
   "metadata": {
    "slideshow": {
     "slide_type": "slide"
    }
   },
   "source": [
    "### JSON\n",
    "\n",
    "- JSON stands for **JavaScript Object Notation**. It is a lightweight format for storing and transferring data.\n",
    "\n",
    "- It is:\n",
    "    - very easy for computers to read and write.\n",
    "    - moderately easy for programmers to read and write by hand.\n",
    "    - meant to be generated and parsed.\n",
    "\n",
    "- Most modern languages have an interface for working with JSON objects.\n",
    "    - JSON objects _resemble_ Python dictionaries (but are not the same!)."
   ]
  },
  {
   "cell_type": "markdown",
   "id": "ff1a792a",
   "metadata": {
    "slideshow": {
     "slide_type": "slide"
    }
   },
   "source": [
    "### JSON data types\n",
    "\n",
    "| Type | Description |\n",
    "| --- | --- |\n",
    "| String | Anything inside double quotes. |\n",
    "| Number | Any number (no difference between ints and floats). |\n",
    "| Boolean | `true` and `false`. |\n",
    "| Null | JSON's empty value, denoted by `null`. |\n",
    "| Array | Like Python lists. |\n",
    "| Object | A collection of key-value pairs, like dictionaries. Keys must be strings, values can be anything (even other objects). |\n",
    "\n",
    "See [json-schema.org](https://json-schema.org/understanding-json-schema/reference/type.html) for more details."
   ]
  },
  {
   "cell_type": "markdown",
   "id": "1e49584b",
   "metadata": {
    "slideshow": {
     "slide_type": "slide"
    }
   },
   "source": [
    "### Example JSON object\n",
    "\n",
    "See `data/family.json`.\n",
    "\n",
    "<center><img src='imgs/hierarchy.png' width=50%></center>"
   ]
  },
  {
   "cell_type": "code",
   "execution_count": 17,
   "id": "0096bba7",
   "metadata": {},
   "outputs": [],
   "source": [
    "import json\n",
    "from pathlib import Path\n",
    "\n",
    "f = Path('data') / 'family.json'\n",
    "family_tree = json.loads(f.read_text())"
   ]
  },
  {
   "cell_type": "code",
   "execution_count": 18,
   "id": "c0df56f4",
   "metadata": {},
   "outputs": [
    {
     "data": {
      "text/plain": [
       "{'name': 'Grandma',\n",
       " 'age': 94,\n",
       " 'children': [{'name': 'Dad',\n",
       "   'age': 60,\n",
       "   'children': [{'name': 'Me', 'age': 24}, {'name': 'Brother', 'age': 22}]},\n",
       "  {'name': 'My Aunt',\n",
       "   'children': [{'name': 'Cousin 1', 'age': 34},\n",
       "    {'name': 'Cousin 2',\n",
       "     'age': 36,\n",
       "     'children': [{'name': 'Cousin 2 Jr.', 'age': 2}]}]}]}"
      ]
     },
     "execution_count": 18,
     "metadata": {},
     "output_type": "execute_result"
    }
   ],
   "source": [
    "family_tree"
   ]
  },
  {
   "cell_type": "code",
   "execution_count": 19,
   "id": "5d717b05",
   "metadata": {},
   "outputs": [
    {
     "data": {
      "text/plain": [
       "34"
      ]
     },
     "execution_count": 19,
     "metadata": {},
     "output_type": "execute_result"
    }
   ],
   "source": [
    "family_tree['children'][1]['children'][0]['age']"
   ]
  },
  {
   "cell_type": "markdown",
   "id": "66c53aa4",
   "metadata": {
    "slideshow": {
     "slide_type": "slide"
    }
   },
   "source": [
    "### Aside: `eval`\n",
    "\n",
    "- `eval`, which stands for \"evaluate\", is a function built into Python.\n",
    "\n",
    "- It takes in a **string containing a Python expression** and evaluates it in the current context."
   ]
  },
  {
   "cell_type": "code",
   "execution_count": 20,
   "id": "071fbf6b",
   "metadata": {},
   "outputs": [
    {
     "data": {
      "text/plain": [
       "9"
      ]
     },
     "execution_count": 20,
     "metadata": {},
     "output_type": "execute_result"
    }
   ],
   "source": [
    "x = 4\n",
    "eval('x + 5')"
   ]
  },
  {
   "cell_type": "markdown",
   "id": "5d59ca5f",
   "metadata": {
    "slideshow": {
     "slide_type": "fragment"
    }
   },
   "source": [
    "- It seems like `eval` can do the same thing that `json.loads` does..."
   ]
  },
  {
   "cell_type": "code",
   "execution_count": 21,
   "id": "23909326",
   "metadata": {},
   "outputs": [
    {
     "data": {
      "text/plain": [
       "{'name': 'Grandma',\n",
       " 'age': 94,\n",
       " 'children': [{'name': 'Dad',\n",
       "   'age': 60,\n",
       "   'children': [{'name': 'Me', 'age': 24}, {'name': 'Brother', 'age': 22}]},\n",
       "  {'name': 'My Aunt',\n",
       "   'children': [{'name': 'Cousin 1', 'age': 34},\n",
       "    {'name': 'Cousin 2',\n",
       "     'age': 36,\n",
       "     'children': [{'name': 'Cousin 2 Jr.', 'age': 2}]}]}]}"
      ]
     },
     "execution_count": 21,
     "metadata": {},
     "output_type": "execute_result"
    }
   ],
   "source": [
    "eval(f.read_text())"
   ]
  },
  {
   "cell_type": "markdown",
   "id": "c7200fc7",
   "metadata": {
    "slideshow": {
     "slide_type": "fragment"
    }
   },
   "source": [
    "- But you should **almost never use `eval`**. The next slide demonstrates why."
   ]
  },
  {
   "cell_type": "markdown",
   "id": "13687f1f",
   "metadata": {
    "slideshow": {
     "slide_type": "slide"
    }
   },
   "source": [
    "### `eval` gone wrong\n",
    "\n",
    "Observe what happens when we use `eval` on a string representation of a JSON object:"
   ]
  },
  {
   "cell_type": "code",
   "execution_count": 22,
   "id": "0aef79df",
   "metadata": {
    "scrolled": true,
    "tags": [
     "raises-exception"
    ]
   },
   "outputs": [
    {
     "ename": "ValueError",
     "evalue": "i just deleted all your files lol 😂",
     "output_type": "error",
     "traceback": [
      "\u001b[0;31m---------------------------------------------------------------------------\u001b[0m",
      "\u001b[0;31mValueError\u001b[0m                                Traceback (most recent call last)",
      "Cell \u001b[0;32mIn[22], line 2\u001b[0m\n\u001b[1;32m      1\u001b[0m f_other \u001b[38;5;241m=\u001b[39m Path(\u001b[38;5;124m'\u001b[39m\u001b[38;5;124mdata\u001b[39m\u001b[38;5;124m'\u001b[39m) \u001b[38;5;241m/\u001b[39m \u001b[38;5;124m'\u001b[39m\u001b[38;5;124mevil_family.json\u001b[39m\u001b[38;5;124m'\u001b[39m\n\u001b[0;32m----> 2\u001b[0m \u001b[38;5;28;43meval\u001b[39;49m\u001b[43m(\u001b[49m\u001b[43mf_other\u001b[49m\u001b[38;5;241;43m.\u001b[39;49m\u001b[43mread_text\u001b[49m\u001b[43m(\u001b[49m\u001b[43m)\u001b[49m\u001b[43m)\u001b[49m\n",
      "File \u001b[0;32m<string>:6\u001b[0m\n",
      "Cell \u001b[0;32mIn[1], line 5\u001b[0m, in \u001b[0;36merr\u001b[0;34m()\u001b[0m\n\u001b[1;32m      4\u001b[0m \u001b[38;5;28;01mdef\u001b[39;00m \u001b[38;5;21merr\u001b[39m():\n\u001b[0;32m----> 5\u001b[0m     \u001b[38;5;28;01mraise\u001b[39;00m \u001b[38;5;167;01mValueError\u001b[39;00m(\u001b[38;5;124m'\u001b[39m\u001b[38;5;124mi just deleted all your files lol 😂\u001b[39m\u001b[38;5;124m'\u001b[39m)\n",
      "\u001b[0;31mValueError\u001b[0m: i just deleted all your files lol 😂"
     ]
    }
   ],
   "source": [
    "f_other = Path('data') / 'evil_family.json'\n",
    "eval(f_other.read_text())"
   ]
  },
  {
   "cell_type": "markdown",
   "id": "9cf8adad",
   "metadata": {
    "slideshow": {
     "slide_type": "fragment"
    }
   },
   "source": [
    "- Oh no! Since `evil_family.json`, which could have been downloaded from the internet, contained malicious code, we now lost all of our files.\n",
    "\n",
    "- This happened because `eval` **evaluates** all parts of the input string as if it were Python code.\n",
    "\n",
    "- You never need to do this – instead, use the `.json()` method of a response object, or use the `json` library."
   ]
  },
  {
   "cell_type": "markdown",
   "id": "be22ed20",
   "metadata": {
    "slideshow": {
     "slide_type": "slide"
    }
   },
   "source": [
    "### Using the `json` module\n",
    "\n",
    "Let's process the same file using the `json` module. Note:\n",
    "- `json.load(f)` loads a JSON file from a file object.\n",
    "- `json.loads(f)` loads a JSON file from a **s**tring."
   ]
  },
  {
   "cell_type": "code",
   "execution_count": 23,
   "id": "8a26d63b",
   "metadata": {},
   "outputs": [
    {
     "data": {
      "text/plain": [
       "'{\\n    \"name\": \"Grandma\",\\n    \"age\": 94,\\n    \"children\": [\\n        {\\n        \"name\": err(),\\n        \"age\": 60,\\n        \"children\": [{\"name\": \"Me\", \"age\": 24}, \\n                     {\"name\": \"Brother\", \"age\": 22}]\\n        },\\n        {\\n        \"name\": \"My Aunt\",\\n        \"children\": [{\"name\": \"Cousin 1\", \"age\": 34}, \\n                     {\"name\": \"Cousin 2\", \"age\": 36, \"children\": \\n                        [{\"name\": \"Cousin 2 Jr.\", \"age\": 2}]\\n                     }\\n                    ]\\n        }\\n    ]\\n}'"
      ]
     },
     "execution_count": 23,
     "metadata": {},
     "output_type": "execute_result"
    }
   ],
   "source": [
    "f_other = Path('data') / 'evil_family.json'\n",
    "s = f_other.read_text()\n",
    "s"
   ]
  },
  {
   "cell_type": "code",
   "execution_count": 24,
   "id": "63a2329b",
   "metadata": {
    "tags": [
     "raises-exception"
    ]
   },
   "outputs": [
    {
     "ename": "JSONDecodeError",
     "evalue": "Expecting value: line 6 column 17 (char 84)",
     "output_type": "error",
     "traceback": [
      "\u001b[0;31m---------------------------------------------------------------------------\u001b[0m",
      "\u001b[0;31mJSONDecodeError\u001b[0m                           Traceback (most recent call last)",
      "Cell \u001b[0;32mIn[24], line 1\u001b[0m\n\u001b[0;32m----> 1\u001b[0m \u001b[43mjson\u001b[49m\u001b[38;5;241;43m.\u001b[39;49m\u001b[43mloads\u001b[49m\u001b[43m(\u001b[49m\u001b[43ms\u001b[49m\u001b[43m)\u001b[49m\n",
      "File \u001b[0;32m~/miniforge3/envs/dsc80/lib/python3.12/json/__init__.py:346\u001b[0m, in \u001b[0;36mloads\u001b[0;34m(s, cls, object_hook, parse_float, parse_int, parse_constant, object_pairs_hook, **kw)\u001b[0m\n\u001b[1;32m    341\u001b[0m     s \u001b[38;5;241m=\u001b[39m s\u001b[38;5;241m.\u001b[39mdecode(detect_encoding(s), \u001b[38;5;124m'\u001b[39m\u001b[38;5;124msurrogatepass\u001b[39m\u001b[38;5;124m'\u001b[39m)\n\u001b[1;32m    343\u001b[0m \u001b[38;5;28;01mif\u001b[39;00m (\u001b[38;5;28mcls\u001b[39m \u001b[38;5;129;01mis\u001b[39;00m \u001b[38;5;28;01mNone\u001b[39;00m \u001b[38;5;129;01mand\u001b[39;00m object_hook \u001b[38;5;129;01mis\u001b[39;00m \u001b[38;5;28;01mNone\u001b[39;00m \u001b[38;5;129;01mand\u001b[39;00m\n\u001b[1;32m    344\u001b[0m         parse_int \u001b[38;5;129;01mis\u001b[39;00m \u001b[38;5;28;01mNone\u001b[39;00m \u001b[38;5;129;01mand\u001b[39;00m parse_float \u001b[38;5;129;01mis\u001b[39;00m \u001b[38;5;28;01mNone\u001b[39;00m \u001b[38;5;129;01mand\u001b[39;00m\n\u001b[1;32m    345\u001b[0m         parse_constant \u001b[38;5;129;01mis\u001b[39;00m \u001b[38;5;28;01mNone\u001b[39;00m \u001b[38;5;129;01mand\u001b[39;00m object_pairs_hook \u001b[38;5;129;01mis\u001b[39;00m \u001b[38;5;28;01mNone\u001b[39;00m \u001b[38;5;129;01mand\u001b[39;00m \u001b[38;5;129;01mnot\u001b[39;00m kw):\n\u001b[0;32m--> 346\u001b[0m     \u001b[38;5;28;01mreturn\u001b[39;00m \u001b[43m_default_decoder\u001b[49m\u001b[38;5;241;43m.\u001b[39;49m\u001b[43mdecode\u001b[49m\u001b[43m(\u001b[49m\u001b[43ms\u001b[49m\u001b[43m)\u001b[49m\n\u001b[1;32m    347\u001b[0m \u001b[38;5;28;01mif\u001b[39;00m \u001b[38;5;28mcls\u001b[39m \u001b[38;5;129;01mis\u001b[39;00m \u001b[38;5;28;01mNone\u001b[39;00m:\n\u001b[1;32m    348\u001b[0m     \u001b[38;5;28mcls\u001b[39m \u001b[38;5;241m=\u001b[39m JSONDecoder\n",
      "File \u001b[0;32m~/miniforge3/envs/dsc80/lib/python3.12/json/decoder.py:337\u001b[0m, in \u001b[0;36mJSONDecoder.decode\u001b[0;34m(self, s, _w)\u001b[0m\n\u001b[1;32m    332\u001b[0m \u001b[38;5;28;01mdef\u001b[39;00m \u001b[38;5;21mdecode\u001b[39m(\u001b[38;5;28mself\u001b[39m, s, _w\u001b[38;5;241m=\u001b[39mWHITESPACE\u001b[38;5;241m.\u001b[39mmatch):\n\u001b[1;32m    333\u001b[0m \u001b[38;5;250m    \u001b[39m\u001b[38;5;124;03m\"\"\"Return the Python representation of ``s`` (a ``str`` instance\u001b[39;00m\n\u001b[1;32m    334\u001b[0m \u001b[38;5;124;03m    containing a JSON document).\u001b[39;00m\n\u001b[1;32m    335\u001b[0m \n\u001b[1;32m    336\u001b[0m \u001b[38;5;124;03m    \"\"\"\u001b[39;00m\n\u001b[0;32m--> 337\u001b[0m     obj, end \u001b[38;5;241m=\u001b[39m \u001b[38;5;28;43mself\u001b[39;49m\u001b[38;5;241;43m.\u001b[39;49m\u001b[43mraw_decode\u001b[49m\u001b[43m(\u001b[49m\u001b[43ms\u001b[49m\u001b[43m,\u001b[49m\u001b[43m \u001b[49m\u001b[43midx\u001b[49m\u001b[38;5;241;43m=\u001b[39;49m\u001b[43m_w\u001b[49m\u001b[43m(\u001b[49m\u001b[43ms\u001b[49m\u001b[43m,\u001b[49m\u001b[43m \u001b[49m\u001b[38;5;241;43m0\u001b[39;49m\u001b[43m)\u001b[49m\u001b[38;5;241;43m.\u001b[39;49m\u001b[43mend\u001b[49m\u001b[43m(\u001b[49m\u001b[43m)\u001b[49m\u001b[43m)\u001b[49m\n\u001b[1;32m    338\u001b[0m     end \u001b[38;5;241m=\u001b[39m _w(s, end)\u001b[38;5;241m.\u001b[39mend()\n\u001b[1;32m    339\u001b[0m     \u001b[38;5;28;01mif\u001b[39;00m end \u001b[38;5;241m!=\u001b[39m \u001b[38;5;28mlen\u001b[39m(s):\n",
      "File \u001b[0;32m~/miniforge3/envs/dsc80/lib/python3.12/json/decoder.py:355\u001b[0m, in \u001b[0;36mJSONDecoder.raw_decode\u001b[0;34m(self, s, idx)\u001b[0m\n\u001b[1;32m    353\u001b[0m     obj, end \u001b[38;5;241m=\u001b[39m \u001b[38;5;28mself\u001b[39m\u001b[38;5;241m.\u001b[39mscan_once(s, idx)\n\u001b[1;32m    354\u001b[0m \u001b[38;5;28;01mexcept\u001b[39;00m \u001b[38;5;167;01mStopIteration\u001b[39;00m \u001b[38;5;28;01mas\u001b[39;00m err:\n\u001b[0;32m--> 355\u001b[0m     \u001b[38;5;28;01mraise\u001b[39;00m JSONDecodeError(\u001b[38;5;124m\"\u001b[39m\u001b[38;5;124mExpecting value\u001b[39m\u001b[38;5;124m\"\u001b[39m, s, err\u001b[38;5;241m.\u001b[39mvalue) \u001b[38;5;28;01mfrom\u001b[39;00m \u001b[38;5;28;01mNone\u001b[39;00m\n\u001b[1;32m    356\u001b[0m \u001b[38;5;28;01mreturn\u001b[39;00m obj, end\n",
      "\u001b[0;31mJSONDecodeError\u001b[0m: Expecting value: line 6 column 17 (char 84)"
     ]
    }
   ],
   "source": [
    "json.loads(s)"
   ]
  },
  {
   "cell_type": "markdown",
   "id": "c544faf7",
   "metadata": {
    "slideshow": {
     "slide_type": "fragment"
    }
   },
   "source": [
    "- Since `util.err()` is not a string in JSON (there are no quotes around it), `json.loads` is not able to parse it as a JSON object.\n",
    "\n",
    "- This \"safety check\" is intentional."
   ]
  },
  {
   "cell_type": "markdown",
   "id": "bbe64ccb",
   "metadata": {
    "slideshow": {
     "slide_type": "slide"
    }
   },
   "source": [
    "### Handling _unfamiliar_ data\n",
    "\n",
    "- Never trust data from an unfamiliar site.\n",
    "\n",
    "- **Never** use `eval` on \"raw\" data that you didn't create!\n",
    "\n",
    "- The JSON data format needs to be **parsed**, not evaluated as a dictionary.\n",
    "    - It was designed with safety in mind!"
   ]
  },
  {
   "cell_type": "markdown",
   "id": "2291a40a",
   "metadata": {
    "slideshow": {
     "slide_type": "slide"
    }
   },
   "source": [
    "### Aside: `pd.read_json`\n",
    "\n",
    "`pandas` also has a built-in `read_json` function."
   ]
  },
  {
   "cell_type": "code",
   "execution_count": 25,
   "id": "c9bddcc3",
   "metadata": {},
   "outputs": [
    {
     "data": {
      "text/html": [
       "<div>\n",
       "<style scoped>\n",
       "    .dataframe tbody tr th:only-of-type {\n",
       "        vertical-align: middle;\n",
       "    }\n",
       "\n",
       "    .dataframe tbody tr th {\n",
       "        vertical-align: top;\n",
       "    }\n",
       "\n",
       "    .dataframe thead th {\n",
       "        text-align: right;\n",
       "    }\n",
       "</style>\n",
       "<table border=\"1\" class=\"dataframe\">\n",
       "  <thead>\n",
       "    <tr style=\"text-align: right;\">\n",
       "      <th></th>\n",
       "      <th>name</th>\n",
       "      <th>age</th>\n",
       "      <th>children</th>\n",
       "    </tr>\n",
       "  </thead>\n",
       "  <tbody>\n",
       "    <tr>\n",
       "      <th>0</th>\n",
       "      <td>Grandma</td>\n",
       "      <td>94</td>\n",
       "      <td>{'name': 'Dad', 'age': 60, 'children': [{'name...</td>\n",
       "    </tr>\n",
       "    <tr>\n",
       "      <th>1</th>\n",
       "      <td>Grandma</td>\n",
       "      <td>94</td>\n",
       "      <td>{'name': 'My Aunt', 'children': [{'name': 'Cou...</td>\n",
       "    </tr>\n",
       "  </tbody>\n",
       "</table>\n",
       "</div>"
      ],
      "text/plain": [
       "      name  age                                           children\n",
       "0  Grandma   94  {'name': 'Dad', 'age': 60, 'children': [{'name...\n",
       "1  Grandma   94  {'name': 'My Aunt', 'children': [{'name': 'Cou..."
      ]
     },
     "execution_count": 25,
     "metadata": {},
     "output_type": "execute_result"
    }
   ],
   "source": [
    "pd.read_json(f)"
   ]
  },
  {
   "cell_type": "markdown",
   "id": "bcf8f6cf",
   "metadata": {},
   "source": [
    "It only makes sense to use it, though, when you have a JSON file that has some sort of tabular structure. Our family tree example does not."
   ]
  },
  {
   "cell_type": "markdown",
   "id": "a9cb4401",
   "metadata": {
    "slideshow": {
     "slide_type": "slide"
    }
   },
   "source": [
    "<div class=\"alert alert-warning\">\n",
    "    <h3>Question 🤔 (Answer at <a href=\"https://dsc80.com/q\">dsc80.com/q</a>)</h3>\n",
    "\n",
    "Code: `json`\n",
    "</div>\n",
    "\n",
    "Use ChatGPT to give you examples of inputs to `pd.read_json()` where the JSON reads successfully and unsuccessfully. What do you learn about `pd.read_json()`?"
   ]
  },
  {
   "cell_type": "markdown",
   "id": "515ff589",
   "metadata": {
    "slideshow": {
     "slide_type": "slide"
    }
   },
   "source": [
    "## APIs and scraping"
   ]
  },
  {
   "cell_type": "markdown",
   "id": "86133535",
   "metadata": {
    "slideshow": {
     "slide_type": "slide"
    }
   },
   "source": [
    "### Programmatic requests\n",
    "\n",
    "* We learned how to use the Python `requests` package to exchange data via HTTP.\n",
    "    - `GET` requests are used to request data **from** a server.\n",
    "    - `POST` requests are used to **send** data to a server.\n",
    "\n",
    "* There are two ways of collecting data through a request:\n",
    "    * By using a published API (application programming interface).\n",
    "    * By scraping a webpage to collect its HTML source code."
   ]
  },
  {
   "cell_type": "markdown",
   "id": "012c368e",
   "metadata": {
    "slideshow": {
     "slide_type": "slide"
    }
   },
   "source": [
    "### APIs\n",
    "\n",
    "An application programming interface (API) is a service that makes data directly available to the user in a convenient fashion."
   ]
  },
  {
   "cell_type": "markdown",
   "id": "7eb84efe",
   "metadata": {
    "slideshow": {
     "slide_type": "fragment"
    }
   },
   "source": [
    "Advantages:\n",
    "\n",
    "- The data are usually clean, up-to-date, and ready to use.\n",
    "\n",
    "- The presence of a API signals that the data provider is okay with you using their data.\n",
    "\n",
    "- The data provider can plan and regulate data usage.\n",
    "    - Some APIs require you to create an API \"key\", which is like an account for using the API.\n",
    "    - APIs can also give you access to data that isn't publicly available on a webpage."
   ]
  },
  {
   "cell_type": "markdown",
   "id": "97eadb42",
   "metadata": {
    "slideshow": {
     "slide_type": "fragment"
    }
   },
   "source": [
    "Big disadvantage: APIs don't always exist for the data you want!"
   ]
  },
  {
   "cell_type": "markdown",
   "id": "1233c56a",
   "metadata": {
    "slideshow": {
     "slide_type": "slide"
    }
   },
   "source": [
    "### API terminology\n",
    "\n",
    "- A URL, or uniform resource locator, describes the location of a website or resource.\n",
    "\n",
    "- An **API endpoint** is a URL of the data source that the user wants to make requests to.\n",
    "\n",
    "- For example, on the [Reddit API](https://www.reddit.com/dev/api/):\n",
    "    * the `/comments` endpoint retrieves information about comments.\n",
    "    * the `/hot` endpoint retrieves data about posts labeled \"hot\" right now. \n",
    "    - To access these endpoints, you add the endpoint name to the base URL of the API."
   ]
  },
  {
   "cell_type": "markdown",
   "id": "460afa71",
   "metadata": {
    "slideshow": {
     "slide_type": "slide"
    }
   },
   "source": [
    "### API requests\n",
    "\n",
    "- API requests are just `GET`/`POST` requests to a specially maintained URL.\n",
    "- Let's test out the [Pokémon API](https://pokeapi.co).\n",
    "\n",
    "First, let's make a `GET` request for `'squirtle'`. To do this, we need to make a request to the correct URL."
   ]
  },
  {
   "cell_type": "code",
   "execution_count": 26,
   "id": "90aa4c65",
   "metadata": {},
   "outputs": [
    {
     "data": {
      "text/plain": [
       "'https://pokeapi.co/api/v2/pokemon/squirtle'"
      ]
     },
     "execution_count": 26,
     "metadata": {},
     "output_type": "execute_result"
    }
   ],
   "source": [
    "def create_url(pokemon):\n",
    "    return f'https://pokeapi.co/api/v2/pokemon/{pokemon}'\n",
    "\n",
    "create_url('squirtle')"
   ]
  },
  {
   "cell_type": "code",
   "execution_count": 27,
   "id": "f4994b92",
   "metadata": {},
   "outputs": [
    {
     "data": {
      "text/plain": [
       "<Response [200]>"
      ]
     },
     "execution_count": 27,
     "metadata": {},
     "output_type": "execute_result"
    }
   ],
   "source": [
    "r = requests.get(create_url('squirtle'))\n",
    "r"
   ]
  },
  {
   "cell_type": "markdown",
   "id": "f7c657f7",
   "metadata": {
    "slideshow": {
     "slide_type": "slide"
    }
   },
   "source": [
    "Remember, the 200 status code is good! Let's take a look at the **content**:"
   ]
  },
  {
   "cell_type": "code",
   "execution_count": 28,
   "id": "a9ec92e8",
   "metadata": {},
   "outputs": [
    {
     "data": {
      "text/plain": [
       "b'{\"abilities\":[{\"ability\":{\"name\":\"torrent\",\"url\":\"https://pokeapi.co/api/v2/ability/67/\"},\"is_hidden\":false,\"slot\":1},{\"ability\":{\"name\":\"rain-dish\",\"url\":\"https://pokeapi.co/api/v2/ability/44/\"},\"is_hidden\":true,\"slot\":3}],\"base_experience\":63,\"cries\":{\"latest\":\"https://raw.githubusercontent.com/PokeAPI/cries/main/cries/pokemon/latest/7.ogg\",\"legacy\":\"https://raw.githubusercontent.com/PokeAPI/cries/main/cries/pokemon/legacy/7.ogg\"},\"forms\":[{\"name\":\"squirtle\",\"url\":\"https://pokeapi.co/api/v2/pokemon-form/7/\"}],\"game_indices\":[{\"game_index\":177,\"version\":{\"name\":\"red\",\"url\":\"https://pokeapi.co/api/v2/version/1/\"}},{\"game_index\":177,\"version\":{\"name\":\"blue\",\"url\":\"https://pokeapi.co/api/v2/version/2/\"}},{\"game_index\":177,\"version\":{\"name\":\"yellow\",\"url\":\"https://pokeapi.co/api/v2/version/3/\"}},{\"game_index\":7,\"version\":{\"name\":\"gold\",\"url\":\"https://pokeapi.co/api/v2/version/4/\"}},{\"game_index\":7,\"version\":{\"name\":\"silver\",\"url\":\"https://pokeapi.co/api/v2/version/5/\"}},{\"game_index\":7,\"v'"
      ]
     },
     "execution_count": 28,
     "metadata": {},
     "output_type": "execute_result"
    }
   ],
   "source": [
    "r.content[:1000]"
   ]
  },
  {
   "cell_type": "markdown",
   "id": "3e8d0cd6",
   "metadata": {
    "slideshow": {
     "slide_type": "slide"
    }
   },
   "source": [
    "Looks like JSON. We can extract the JSON from this request with the `json` method (or by passing `r.text` to `json.loads`)."
   ]
  },
  {
   "cell_type": "code",
   "execution_count": 29,
   "id": "7f0ab31d",
   "metadata": {
    "scrolled": true
   },
   "outputs": [
    {
     "data": {
      "text/plain": [
       "dict_keys(['abilities', 'base_experience', 'cries', 'forms', 'game_indices', 'height', 'held_items', 'id', 'is_default', 'location_area_encounters', 'moves', 'name', 'order', 'past_abilities', 'past_types', 'species', 'sprites', 'stats', 'types', 'weight'])"
      ]
     },
     "execution_count": 29,
     "metadata": {},
     "output_type": "execute_result"
    }
   ],
   "source": [
    "rr = r.json()\n",
    "rr.keys()"
   ]
  },
  {
   "cell_type": "code",
   "execution_count": 30,
   "id": "c93f4866",
   "metadata": {},
   "outputs": [
    {
     "data": {
      "text/plain": [
       "90"
      ]
     },
     "execution_count": 30,
     "metadata": {},
     "output_type": "execute_result"
    }
   ],
   "source": [
    "rr['weight']"
   ]
  },
  {
   "cell_type": "code",
   "execution_count": 31,
   "id": "003ba231",
   "metadata": {},
   "outputs": [
    {
     "data": {
      "text/plain": [
       "'rain-dish'"
      ]
     },
     "execution_count": 31,
     "metadata": {},
     "output_type": "execute_result"
    }
   ],
   "source": [
    "rr['abilities'][1]['ability']['name']"
   ]
  },
  {
   "cell_type": "markdown",
   "id": "a0710871",
   "metadata": {
    "slideshow": {
     "slide_type": "slide"
    }
   },
   "source": [
    "Let's try a `GET` request for `'billy'`."
   ]
  },
  {
   "cell_type": "code",
   "execution_count": 32,
   "id": "edfc11da",
   "metadata": {},
   "outputs": [
    {
     "data": {
      "text/plain": [
       "<Response [404]>"
      ]
     },
     "execution_count": 32,
     "metadata": {},
     "output_type": "execute_result"
    }
   ],
   "source": [
    "r = requests.get(create_url('billy'))\n",
    "r"
   ]
  },
  {
   "cell_type": "markdown",
   "id": "1c1dd915",
   "metadata": {},
   "source": [
    "We receive a 404 error, since there is no Pokemon named `'billy'`!"
   ]
  },
  {
   "cell_type": "markdown",
   "id": "60e30f9a",
   "metadata": {
    "slideshow": {
     "slide_type": "slide"
    }
   },
   "source": [
    "### Scraping\n",
    "\n",
    "Scraping is the act of programmatically \"browsing\" the web, downloading the source code (HTML) of pages that you're interested in extracting data from."
   ]
  },
  {
   "cell_type": "markdown",
   "id": "a3b33528",
   "metadata": {
    "slideshow": {
     "slide_type": "fragment"
    }
   },
   "source": [
    "Big advantage: You can always do it! For example, Google scrapes webpages in order to make them searchable."
   ]
  },
  {
   "cell_type": "markdown",
   "id": "592ff53d",
   "metadata": {
    "slideshow": {
     "slide_type": "fragment"
    }
   },
   "source": [
    "Disadvantages:\n",
    "\n",
    "- It is often difficult to parse and clean scraped data.\n",
    "    - Source code often includes a lot of content unrelated to the data you're trying to find (e.g. formatting, advertisements, other text).\n",
    "\n",
    "- Websites can change often, so scraping code can get outdated quickly.\n",
    "\n",
    "- Websites may not want you to scrape their data!\n",
    "\n",
    "- **In general, we prefer APIs, but scraping is a useful skill to learn.**"
   ]
  },
  {
   "cell_type": "markdown",
   "id": "1886febb",
   "metadata": {
    "slideshow": {
     "slide_type": "slide"
    }
   },
   "source": [
    "### Example: Scraping the HDSI faculty page\n",
    "\n",
    "To fully understand how to scrape, we need to understand how HTML documents are structured and how to extract information out of them.\n",
    "\n",
    "But as a preview of what's to come next week, let's start by making a request to the HDSI Faculty page, https://datascience.ucsd.edu/faculty."
   ]
  },
  {
   "cell_type": "code",
   "execution_count": 33,
   "id": "826e66a8-f8ab-4e9e-a7f5-877280cdeca9",
   "metadata": {},
   "outputs": [
    {
     "data": {
      "text/plain": [
       "'/Users/sam/miniforge3/envs/dsc80/lib/python3.12/site-packages/certifi/cacert.pem'"
      ]
     },
     "execution_count": 33,
     "metadata": {},
     "output_type": "execute_result"
    }
   ],
   "source": [
    "import certifi\n",
    "certifi.where()"
   ]
  },
  {
   "cell_type": "code",
   "execution_count": 34,
   "id": "e3632dec",
   "metadata": {},
   "outputs": [
    {
     "name": "stderr",
     "output_type": "stream",
     "text": [
      "/Users/sam/miniforge3/envs/dsc80/lib/python3.12/site-packages/urllib3/connectionpool.py:1099: InsecureRequestWarning: Unverified HTTPS request is being made to host 'datascience.ucsd.edu'. Adding certificate verification is strongly advised. See: https://urllib3.readthedocs.io/en/latest/advanced-usage.html#tls-warnings\n",
      "  warnings.warn(\n"
     ]
    },
    {
     "data": {
      "text/plain": [
       "<Response [200]>"
      ]
     },
     "execution_count": 34,
     "metadata": {},
     "output_type": "execute_result"
    }
   ],
   "source": [
    "# Sometimes, the requests library gets weirdly strict about the HDSI webpage,\n",
    "# so we'll skip its security checks using verify=False.\n",
    "fac_response = requests.get('https://datascience.ucsd.edu/faculty/', verify=False)\n",
    "fac_response"
   ]
  },
  {
   "cell_type": "markdown",
   "id": "ac27bb89",
   "metadata": {},
   "source": [
    "The response is a long HTML document."
   ]
  },
  {
   "cell_type": "code",
   "execution_count": 35,
   "id": "b2a4cdf7",
   "metadata": {},
   "outputs": [
    {
     "data": {
      "text/plain": [
       "246903"
      ]
     },
     "execution_count": 35,
     "metadata": {},
     "output_type": "execute_result"
    }
   ],
   "source": [
    "len(fac_response.text)"
   ]
  },
  {
   "cell_type": "code",
   "execution_count": 36,
   "id": "3a718871",
   "metadata": {},
   "outputs": [
    {
     "name": "stdout",
     "output_type": "stream",
     "text": [
      "<!DOCTYPE html><html lang=\"en-US\"><head><meta charset=\"UTF-8\"><meta name=\"viewport\" content=\"width=device-width, initial-scale=1.0\" /><meta http-equiv=\"X-UA-Compatible\" content=\"IE=edge\"><link rel=\"profile\" href=\"https://gmpg.org/xfn/11\" /><title>Faculty &#8211; Halıcıoğlu Data Science Institute &#8211; UC San Diego</title> <script defer src=\"data:text/javascript;base64,CiAgICAgICAgICAgICAgICAgICAgICAgICAgICAvKiBZb3UgY2FuIGFkZCBtb3JlIGNvbmZpZ3VyYXRpb24gb3B0aW9ucyB0byB3ZWJmb250bG9hZGVyIGJ5IHByZXZpb3VzbHkgZGVmaW5pbmcgdGhlIFdlYkZvbnRDb25maWcgd2l0aCB5b3VyIG9wdGlvbnMgKi8KICAgICAgICAgICAgICAgICAgICAgICAgICAgIGlmICggdHlwZW9mIFdlYkZvbnRDb25maWcgPT09ICJ1bmRlZmluZWQiICkgewogICAgICAgICAgICAgICAgICAgICAgICAgICAgICAgIFdlYkZvbnRDb25maWcgPSBuZXcgT2JqZWN0KCk7CiAgICAgICAgICAgICAgICAgICAgICAgICAgICB9CiAgICAgICAgICAgICAgICAgICAgICAgICAgICBXZWJGb250Q29uZmlnWydnb29nbGUnXSA9IHtmYW1pbGllczogWydKb3N0OjQwMCw3MDAnLCAnUm9ib3RvOjQwMCw1MDAnXX07CgogICAgICAgICAgICAgICAgICAgICAgICAgICAgKGZ1bmN0aW9uKCkgewogICAgICAgICA\n"
     ]
    }
   ],
   "source": [
    "print(fac_response.text[:1000])"
   ]
  },
  {
   "cell_type": "markdown",
   "id": "50e5db5f",
   "metadata": {
    "slideshow": {
     "slide_type": "slide"
    }
   },
   "source": [
    "<div class=\"alert alert-warning\">\n",
    "    <h3>Question 🤔 (Answer at <a href=\"https://dsc80.com/q\">dsc80.com/q</a>)</h3>\n",
    "\n",
    "Code: `fac`\n",
    "</div>\n",
    "    \n",
    "Try asking ChatGPT to get the faculty names from this webpage by pasting the HTML of `fac_response` into the prompt. What happens? Can you figure out a way to get around this?"
   ]
  },
  {
   "cell_type": "markdown",
   "id": "ee70c68d",
   "metadata": {
    "slideshow": {
     "slide_type": "slide"
    }
   },
   "source": [
    "To **parse** HTML, we'll use the BeautifulSoup library."
   ]
  },
  {
   "cell_type": "code",
   "execution_count": 37,
   "id": "b96344f3",
   "metadata": {},
   "outputs": [],
   "source": [
    "from bs4 import BeautifulSoup\n",
    "soup = BeautifulSoup(fac_response.text)"
   ]
  },
  {
   "cell_type": "markdown",
   "id": "1ac0658a",
   "metadata": {
    "slideshow": {
     "slide_type": "fragment"
    }
   },
   "source": [
    "Now, `soup` is a representation of the faculty page's HTML code that Python knows how to extract information from."
   ]
  },
  {
   "cell_type": "code",
   "execution_count": 38,
   "id": "f9208a7b",
   "metadata": {},
   "outputs": [
    {
     "data": {
      "text/html": [
       "<div>\n",
       "<style scoped>\n",
       "    .dataframe tbody tr th:only-of-type {\n",
       "        vertical-align: middle;\n",
       "    }\n",
       "\n",
       "    .dataframe tbody tr th {\n",
       "        vertical-align: top;\n",
       "    }\n",
       "\n",
       "    .dataframe thead th {\n",
       "        text-align: right;\n",
       "    }\n",
       "</style>\n",
       "<table border=\"1\" class=\"dataframe\">\n",
       "  <thead>\n",
       "    <tr style=\"text-align: right;\">\n",
       "      <th></th>\n",
       "      <th>name</th>\n",
       "      <th>title</th>\n",
       "    </tr>\n",
       "  </thead>\n",
       "  <tbody>\n",
       "    <tr>\n",
       "      <th>0</th>\n",
       "      <td>Ilkay Altintas</td>\n",
       "      <td>SDSC Chief Data Science Officer &amp; HDSI Foundin...</td>\n",
       "    </tr>\n",
       "    <tr>\n",
       "      <th>1</th>\n",
       "      <td>Tiffany Amariuta</td>\n",
       "      <td>Assistant Professor</td>\n",
       "    </tr>\n",
       "    <tr>\n",
       "      <th>2</th>\n",
       "      <td>Mikio Aoi</td>\n",
       "      <td>Assistant Professor</td>\n",
       "    </tr>\n",
       "    <tr>\n",
       "      <th>3</th>\n",
       "      <td>Ery Arias-Castro</td>\n",
       "      <td>Professor</td>\n",
       "    </tr>\n",
       "    <tr>\n",
       "      <th>4</th>\n",
       "      <td>Vineet Bafna</td>\n",
       "      <td>Professor</td>\n",
       "    </tr>\n",
       "  </tbody>\n",
       "</table>\n",
       "</div>"
      ],
      "text/plain": [
       "               name                                              title\n",
       "0    Ilkay Altintas  SDSC Chief Data Science Officer & HDSI Foundin...\n",
       "1  Tiffany Amariuta                                Assistant Professor\n",
       "2         Mikio Aoi                                Assistant Professor\n",
       "3  Ery Arias-Castro                                          Professor\n",
       "4      Vineet Bafna                                          Professor"
      ]
     },
     "execution_count": 38,
     "metadata": {},
     "output_type": "execute_result"
    }
   ],
   "source": [
    "# Magic that we'll learn how to create together next Tuesday.\n",
    "divs = soup.find_all('div', class_='vc_grid-item')\n",
    "names = [div.find('h4').text for div in divs]\n",
    "titles = [div.find(class_='pendari_people_title').text for div in divs]\n",
    "\n",
    "faculty = pd.DataFrame({\n",
    "    'name': names, \n",
    "    'title': titles, \n",
    "})\n",
    "faculty.head()"
   ]
  },
  {
   "cell_type": "markdown",
   "id": "ec30b1fe",
   "metadata": {
    "slideshow": {
     "slide_type": "fragment"
    }
   },
   "source": [
    "Now we have a DataFrame!"
   ]
  },
  {
   "cell_type": "code",
   "execution_count": 39,
   "id": "6422527c",
   "metadata": {},
   "outputs": [
    {
     "data": {
      "text/html": [
       "<div>\n",
       "<style scoped>\n",
       "    .dataframe tbody tr th:only-of-type {\n",
       "        vertical-align: middle;\n",
       "    }\n",
       "\n",
       "    .dataframe tbody tr th {\n",
       "        vertical-align: top;\n",
       "    }\n",
       "\n",
       "    .dataframe thead th {\n",
       "        text-align: right;\n",
       "    }\n",
       "</style>\n",
       "<table border=\"1\" class=\"dataframe\">\n",
       "  <thead>\n",
       "    <tr style=\"text-align: right;\">\n",
       "      <th></th>\n",
       "      <th>name</th>\n",
       "      <th>title</th>\n",
       "    </tr>\n",
       "  </thead>\n",
       "  <tbody>\n",
       "    <tr>\n",
       "      <th>13</th>\n",
       "      <td>Justin Eldridge</td>\n",
       "      <td>Associate Teaching Professor</td>\n",
       "    </tr>\n",
       "    <tr>\n",
       "      <th>14</th>\n",
       "      <td>Shannon Ellis</td>\n",
       "      <td>Associate Teaching Professor</td>\n",
       "    </tr>\n",
       "    <tr>\n",
       "      <th>28</th>\n",
       "      <td>Marina Langlois</td>\n",
       "      <td>Lecturer</td>\n",
       "    </tr>\n",
       "    <tr>\n",
       "      <th>...</th>\n",
       "      <td>...</td>\n",
       "      <td>...</td>\n",
       "    </tr>\n",
       "    <tr>\n",
       "      <th>38</th>\n",
       "      <td>Giorgio Quer</td>\n",
       "      <td>Lecturer</td>\n",
       "    </tr>\n",
       "    <tr>\n",
       "      <th>46</th>\n",
       "      <td>Jack Silberman</td>\n",
       "      <td>Lecturer</td>\n",
       "    </tr>\n",
       "    <tr>\n",
       "      <th>50</th>\n",
       "      <td>Janine Tiefenbruck</td>\n",
       "      <td>Lecturer</td>\n",
       "    </tr>\n",
       "  </tbody>\n",
       "</table>\n",
       "<p>8 rows × 2 columns</p>\n",
       "</div>"
      ],
      "text/plain": [
       "                  name                         title\n",
       "13     Justin Eldridge  Associate Teaching Professor\n",
       "14       Shannon Ellis  Associate Teaching Professor\n",
       "28     Marina Langlois                      Lecturer\n",
       "..                 ...                           ...\n",
       "38        Giorgio Quer                      Lecturer\n",
       "46      Jack Silberman                      Lecturer\n",
       "50  Janine Tiefenbruck                      Lecturer\n",
       "\n",
       "[8 rows x 2 columns]"
      ]
     },
     "execution_count": 39,
     "metadata": {},
     "output_type": "execute_result"
    }
   ],
   "source": [
    "faculty[faculty['title'].str.contains('Lecturer') | faculty['title'].str.contains('Teaching')]"
   ]
  },
  {
   "cell_type": "markdown",
   "id": "b9fa4e5a",
   "metadata": {
    "slideshow": {
     "slide_type": "slide"
    }
   },
   "source": [
    "What if we want to get faculty members' pictures? "
   ]
  },
  {
   "cell_type": "code",
   "execution_count": 40,
   "id": "0bb34bd9",
   "metadata": {},
   "outputs": [],
   "source": [
    "from IPython.display import Image, display\n",
    "\n",
    "def show_picture(name):\n",
    "    idx = faculty[faculty['name'].str.lower().str.contains(name.lower())].index[0]\n",
    "    display(Image(url=divs[idx].find('img')['src'], width=200, height=200))"
   ]
  },
  {
   "cell_type": "code",
   "execution_count": 41,
   "id": "659106fb",
   "metadata": {},
   "outputs": [
    {
     "data": {
      "text/html": [
       "<img src=\"https://datascience.ucsd.edu/wp-content/uploads/2023/09/samlau_headshot.jpg\" width=\"200\" height=\"200\"/>"
      ],
      "text/plain": [
       "<IPython.core.display.Image object>"
      ]
     },
     "metadata": {},
     "output_type": "display_data"
    }
   ],
   "source": [
    "show_picture('sam')"
   ]
  },
  {
   "cell_type": "markdown",
   "id": "3bc332e2",
   "metadata": {
    "slideshow": {
     "slide_type": "slide"
    }
   },
   "source": [
    "<div class=\"alert alert-warning\">\n",
    "    <h3>Question 🤔 (Answer at <a href=\"https://dsc80.com/q\">dsc80.com/q</a>)</h3>\n",
    "\n",
    "Code: `imgs`\n",
    "</div>\n",
    "    \n",
    "Write a prompt so that ChatGPT generates `bs4` code to correctly pull out the `img` tags from the HDSI Faculty HTML."
   ]
  },
  {
   "cell_type": "markdown",
   "id": "2ddc1d9d-53db-40a4-b5e6-9e3d51d81a69",
   "metadata": {
    "slideshow": {
     "slide_type": "slide"
    }
   },
   "source": [
    "<div class=\"alert alert-warning\">\n",
    "    <h3>Question 🤔 (Answer at <a href=\"https://dsc80.com/q\">dsc80.com/q</a>)</h3>\n",
    "\n",
    "Code: `mt`\n",
    "</div>\n",
    "    \n",
    "Submit a past exam question to review for the midterm."
   ]
  },
  {
   "cell_type": "markdown",
   "id": "6891296b-5eac-4bd1-9015-1dd70462505a",
   "metadata": {
    "slideshow": {
     "slide_type": "slide"
    }
   },
   "source": [
    "## Midterm review\n",
    "\n",
    "You'll need to look at the podcast for this part."
   ]
  }
 ],
 "metadata": {
  "kernelspec": {
   "display_name": "Python 3 (ipykernel)",
   "language": "python",
   "name": "python3"
  },
  "language_info": {
   "codemirror_mode": {
    "name": "ipython",
    "version": 3
   },
   "file_extension": ".py",
   "mimetype": "text/x-python",
   "name": "python",
   "nbconvert_exporter": "python",
   "pygments_lexer": "ipython3",
   "version": "3.12.7"
  },
  "livereveal": {
   "scroll": true
  },
  "rise": {
   "transition": "none"
  }
 },
 "nbformat": 4,
 "nbformat_minor": 5
}
