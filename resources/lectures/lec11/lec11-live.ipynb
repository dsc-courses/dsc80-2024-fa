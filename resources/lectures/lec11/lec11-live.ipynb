{
 "cells": [
  {
   "cell_type": "code",
   "execution_count": null,
   "id": "8c8a44b8",
   "metadata": {
    "slideshow": {
     "slide_type": "skip"
    }
   },
   "outputs": [],
   "source": [
    "from dsc80_utils import *"
   ]
  },
  {
   "cell_type": "markdown",
   "id": "6ca51859",
   "metadata": {
    "slideshow": {
     "slide_type": "slide"
    }
   },
   "source": [
    "# Lecture 11 – Regular Expressions \n",
    "\n",
    "## DSC 80, Fall 2024"
   ]
  },
  {
   "cell_type": "markdown",
   "id": "22824200",
   "metadata": {
    "slideshow": {
     "slide_type": "slide"
    }
   },
   "source": [
    "### Announcements 📣\n",
    "\n",
    "- Lab 5 due Monday (not tomorrow, sorry about the mixup!)\n",
    "- Project 3 checkpoint due Tues.\n",
    "    - Don't wait until the last minute to start Part 3! It takes a while to finish."
   ]
  },
  {
   "cell_type": "markdown",
   "id": "532f40e6",
   "metadata": {
    "slideshow": {
     "slide_type": "slide"
    }
   },
   "source": [
    "### Agenda 📆\n",
    "\n",
    "- Most of today's lecture will be about **regular expressions**. Good resources:\n",
    "    - [regex101.com](https://regex101.com), a helpful site to have open while writing regular expressions.\n",
    "    - Python [`re` library documentation](https://docs.python.org/3/library/re.html) and [how-to](https://docs.python.org/3/howto/regex.html).\n",
    "        - The \"how-to\" is great, read it!\n",
    "    - [regex \"cheat sheet\"](https://dsc80.com/resources/other/berkeley-regex-reference.pdf) (taken from [here](https://ds100.org/sp22/resources/)).\n",
    "    - These are all on the [**resources tab of the course website**](https://dsc80.com/resources/#regular-expressions) as well.\n"
   ]
  },
  {
   "cell_type": "markdown",
   "id": "21a46477",
   "metadata": {
    "slideshow": {
     "slide_type": "slide"
    }
   },
   "source": [
    "## Motivation"
   ]
  },
  {
   "cell_type": "code",
   "execution_count": null,
   "id": "27e79047",
   "metadata": {
    "slideshow": {
     "slide_type": "slide"
    }
   },
   "outputs": [],
   "source": [
    "contact = '''\n",
    "Thank you for buying our expensive product!\n",
    "\n",
    "If you have a complaint, please send it to complaints@compuserve.com or call (800) 867-5309.\n",
    "\n",
    "If you are happy with your purchase, please call us at (800) 123-4567; we'd love to hear from you!\n",
    "\n",
    "Due to high demand, please allow one-hundred (100) business days for a response.\n",
    "'''"
   ]
  },
  {
   "cell_type": "markdown",
   "id": "5a3d6bb9",
   "metadata": {
    "slideshow": {
     "slide_type": "slide"
    }
   },
   "source": [
    "### Who called? 📞\n",
    "\n",
    "- **Goal**: Extract all phone numbers from a piece of text, assuming they are of the form `'(###) ###-####'`."
   ]
  },
  {
   "cell_type": "code",
   "execution_count": null,
   "id": "41a25982",
   "metadata": {},
   "outputs": [],
   "source": [
    "print(contact)"
   ]
  },
  {
   "cell_type": "markdown",
   "id": "12865755",
   "metadata": {
    "slideshow": {
     "slide_type": "fragment"
    }
   },
   "source": [
    "- We can do this using the same string methods we've come to know and love.\n",
    "\n",
    "- Strategy:\n",
    "    - Split by spaces.\n",
    "    - Check if there are any consecutive \"words\" where:\n",
    "        - the first \"word\" looks like an area code, like `'(678)'`.\n",
    "        - the second \"word\" looks like the last 7 digits of a phone number, like `'999-8212'`. "
   ]
  },
  {
   "cell_type": "markdown",
   "id": "25086b08",
   "metadata": {
    "slideshow": {
     "slide_type": "slide"
    }
   },
   "source": [
    "Let's first write a function that takes in a string and returns whether it looks like an area code."
   ]
  },
  {
   "cell_type": "code",
   "execution_count": null,
   "id": "3d51b147",
   "metadata": {
    "slideshow": {
     "slide_type": "-"
    }
   },
   "outputs": [],
   "source": [
    "def is_possibly_area_code(s):\n",
    "    '''Does `s` look like (678)?'''\n",
    "    return (len(s) == 5 and\n",
    "            s.startswith('(') and\n",
    "            s.endswith(')') and\n",
    "            s[1:4].isnumeric())"
   ]
  },
  {
   "cell_type": "code",
   "execution_count": null,
   "id": "f9f27b4d",
   "metadata": {},
   "outputs": [],
   "source": [
    "is_possibly_area_code('(123)')"
   ]
  },
  {
   "cell_type": "code",
   "execution_count": null,
   "id": "0602b828",
   "metadata": {},
   "outputs": [],
   "source": [
    "is_possibly_area_code('(99)')"
   ]
  },
  {
   "cell_type": "markdown",
   "id": "05f2965a",
   "metadata": {
    "slideshow": {
     "slide_type": "slide"
    }
   },
   "source": [
    "Let's also write a function that takes in a string and returns whether it looks like the last 7 digits of a phone number."
   ]
  },
  {
   "cell_type": "code",
   "execution_count": null,
   "id": "88a266f4",
   "metadata": {},
   "outputs": [],
   "source": [
    "def is_last_7_phone_number(s):\n",
    "    '''Does `s` look like 999-8212?'''\n",
    "    return len(s) == 8 and s[0:3].isnumeric() and s[3] == '-' and s[4:].isnumeric()"
   ]
  },
  {
   "cell_type": "code",
   "execution_count": null,
   "id": "8f29c1a4",
   "metadata": {},
   "outputs": [],
   "source": [
    "is_last_7_phone_number('999-8212')"
   ]
  },
  {
   "cell_type": "code",
   "execution_count": null,
   "id": "c7eaa2ed",
   "metadata": {},
   "outputs": [],
   "source": [
    "is_last_7_phone_number('534 1100')"
   ]
  },
  {
   "cell_type": "markdown",
   "id": "4879d9e7",
   "metadata": {
    "slideshow": {
     "slide_type": "slide"
    }
   },
   "source": [
    "Finally, let's split the entire text by spaces, and check whether there are any instances where `pieces[i]` looks like an area code and `pieces[i+1]` looks like the last 7 digits of a phone number."
   ]
  },
  {
   "cell_type": "code",
   "execution_count": null,
   "id": "a76b6ff6",
   "metadata": {
    "slideshow": {
     "slide_type": "-"
    }
   },
   "outputs": [],
   "source": [
    "# Removes punctuation from the end of each string.\n",
    "pieces = [s.rstrip('.,?;\"\\'') for s in contact.split()]\n",
    "\n",
    "for i in range(len(pieces) - 1):\n",
    "    if is_possibly_area_code(pieces[i]):\n",
    "        if is_last_7_phone_number(pieces[i+1]):\n",
    "            print(pieces[i], pieces[i+1])"
   ]
  },
  {
   "cell_type": "markdown",
   "id": "71bc9173",
   "metadata": {
    "slideshow": {
     "slide_type": "slide"
    }
   },
   "source": [
    "### Is there a better way?\n",
    "\n",
    "- This was an example of **pattern matching**.\n",
    "- It can be done with string methods, but there is often a better approach: **regular expressions**."
   ]
  },
  {
   "cell_type": "code",
   "execution_count": null,
   "id": "aa2b1453",
   "metadata": {
    "slideshow": {
     "slide_type": ""
    }
   },
   "outputs": [],
   "source": [
    "print(contact)"
   ]
  },
  {
   "cell_type": "code",
   "execution_count": null,
   "id": "d455eaec",
   "metadata": {},
   "outputs": [],
   "source": [
    "import re\n",
    "re.findall(r'\\(\\d{3}\\) \\d{3}-\\d{4}', contact)"
   ]
  },
  {
   "cell_type": "markdown",
   "id": "aada954d",
   "metadata": {
    "slideshow": {
     "slide_type": "fragment"
    }
   },
   "source": [
    "<center><h3>🤯</h3></center>"
   ]
  },
  {
   "cell_type": "markdown",
   "id": "67c4e89a",
   "metadata": {
    "slideshow": {
     "slide_type": "slide"
    }
   },
   "source": [
    "## Basic regular expressions"
   ]
  },
  {
   "cell_type": "markdown",
   "id": "916827c2",
   "metadata": {
    "slideshow": {
     "slide_type": "slide"
    }
   },
   "source": [
    "### Regular expressions"
   ]
  },
  {
   "cell_type": "markdown",
   "id": "98d58c81",
   "metadata": {
    "slideshow": {
     "slide_type": "fragment"
    }
   },
   "source": [
    "- A regular expression, or **regex** for short, is a sequence of characters used to **match patterns in strings**.\n",
    "    - For example, `\\(\\d{3}\\) \\d{3}-\\d{4}` describes a **pattern** that matches US phone numbers of the form `'(XXX) XXX-XXXX'`.\n",
    "    - Think of regex as a \"mini-language\" (formally: they are a grammar for describing a language)."
   ]
  },
  {
   "cell_type": "markdown",
   "id": "18f23a7e",
   "metadata": {
    "slideshow": {
     "slide_type": "fragment"
    }
   },
   "source": [
    "- **Pros**: They are very powerful and are widely used (virtually every programming language has a module for working with them)."
   ]
  },
  {
   "cell_type": "markdown",
   "id": "3b051478",
   "metadata": {
    "slideshow": {
     "slide_type": "fragment"
    }
   },
   "source": [
    "- **Cons**: They can be hard to read and have many different \"dialects.\""
   ]
  },
  {
   "cell_type": "markdown",
   "id": "3f90fcb0",
   "metadata": {
    "slideshow": {
     "slide_type": "slide"
    }
   },
   "source": [
    "### Writing regular expressions\n",
    "\n",
    "- You will ultimately write most of your regular expressions in Python, using the `re` module. We will see how to do so shortly.\n",
    "\n",
    "- However, a useful tool for designing regular expressions is [regex101.com](https://regex101.com).\n",
    "\n",
    "- We will use it heavily during lecture; you should have it open as we work through examples. **If you're trying to revisit this lecture in the future, you'll likely want to watch the podcast.**"
   ]
  },
  {
   "cell_type": "markdown",
   "id": "08351ea4",
   "metadata": {
    "slideshow": {
     "slide_type": "slide"
    }
   },
   "source": [
    "### Literals\n",
    "\n",
    "- A literal is a character that has no special meaning.\n",
    "\n",
    "- Letters, numbers, and some symbols are all literals.\n",
    "\n",
    "- Some symbols, like `.`, `*`, `(`, and `)`, are special characters.\n",
    "\n",
    "- ***Example***: The regex `hey` matches the string `'hey'`. The regex `he.` also matches the string `'hey'`."
   ]
  },
  {
   "cell_type": "markdown",
   "id": "cc8ac2a7",
   "metadata": {
    "slideshow": {
     "slide_type": "slide"
    }
   },
   "source": [
    "### Regex building blocks 🧱\n",
    "\n",
    "The four main building blocks for all regexes are shown below ([table source](https://www.cs.princeton.edu/courses/archive/spring17/cos226/lectures/54RegularExpressions.pdf), [inspiration](https://docs.google.com/presentation/d/1xQsqa7e3xDZ9nBiekbSBOecwvQm8pSVGa-FBoV6aJ7E/edit#slide=id.g11197671c7e_0_919)).\n",
    "\n",
    "| operation | order of op. | example | matches ✅ | does not match ❌ |\n",
    "|:--- |:---|:---|:---|:---|\n",
    "| <span style='color:purple'><b>concatenation</b></span> | 3 | `AABAAB` | `'AABAAB'` | every other string |\n",
    "| <span style='color:purple'><b>or</b></span> | 4 | `AA\\|BAAB` | `'AA'`, `'BAAB'` | every other string |\n",
    "| <span style='color:purple'><b>closure</b><br>(zero or more)</span> | 2 | `AB*A` | `'AA'`, `'ABBBBBBA'` | `'AB'`, `'ABABA'` |\n",
    "| <span style='color:purple'><b>parentheses</b></span> | 1 | `A(A\\|B)AAB` <hr style=\"height:1px\"> `(AB)*A` | `'AAAAB'`, `'ABAAB'`<hr style=\"height:1px\">`'A'`, `'ABABABABA'` | every other string<hr style=\"height:1px\">`'AA'`, `'ABBA'` |\n",
    "\n",
    "Note that `|`, `(`, `)`, and `*` are **special characters**, not literals. They manipulate the characters around them."
   ]
  },
  {
   "cell_type": "markdown",
   "id": "84b82c2c",
   "metadata": {
    "slideshow": {
     "slide_type": "slide"
    }
   },
   "source": [
    "***Example (or, parentheses)***:\n",
    "- What does `DSC 30|80` match?\n",
    "- What does `DSC (30|80)` match?"
   ]
  },
  {
   "cell_type": "markdown",
   "id": "ae06ea65",
   "metadata": {
    "slideshow": {
     "slide_type": "slide"
    }
   },
   "source": [
    "***Example (closure, parentheses)***:\n",
    "- What does `blah*` match?\n",
    "- What does `(blah)*` match?"
   ]
  },
  {
   "cell_type": "markdown",
   "id": "5dcf8f0e",
   "metadata": {
    "slideshow": {
     "slide_type": "slide"
    }
   },
   "source": [
    "<div class=\"alert alert-warning\">\n",
    "    <h3>Question 🤔 (Answer at <a href=\"https://dsc80.com/q\">dsc80.com/q</a>)</h3>\n",
    "\n",
    "Code: `billy`\n",
    "</div>\n",
    "        \n",
    "Write a regular expression that matches `'billy'`, `'billlly'`, `'billlllly'`, etc.\n",
    "- First, think about how to match strings with any even number of `'l'`s, including zero `'l'`s (i.e. `'biy'`).\n",
    "- Then, think about how to match only strings with a **positive even** number of `'l'`s.\n",
    "\n",
    "</div>"
   ]
  },
  {
   "cell_type": "code",
   "execution_count": null,
   "id": "9fc1c42c-c2eb-4a1c-95e5-0d056e5f7329",
   "metadata": {},
   "outputs": [],
   "source": []
  },
  {
   "cell_type": "markdown",
   "id": "12cd6c18",
   "metadata": {
    "slideshow": {
     "slide_type": "slide"
    }
   },
   "source": [
    "<div class=\"alert alert-warning\">\n",
    "    <h3>Question 🤔 (Answer at <a href=\"https://dsc80.com/q\">dsc80.com/q</a>)</h3>\n",
    "\n",
    "Code: `billy2`\n",
    "</div>\n",
    "\n",
    "Write a regular expression that matches `'billy'`, `'billlly'`, `'biggy'`, `'biggggy'`, etc.\n",
    "\n",
    "Specifically, it should match any string with a **positive even** number of `'l'`s in the middle, or a **positive even** number of `'g'`s in the middle.\n",
    "\n",
    "</div>"
   ]
  },
  {
   "cell_type": "code",
   "execution_count": null,
   "id": "a2b3ea23-c579-4649-aa32-8ca3b435e5f8",
   "metadata": {},
   "outputs": [],
   "source": []
  },
  {
   "cell_type": "markdown",
   "id": "925262dd",
   "metadata": {
    "slideshow": {
     "slide_type": "slide"
    }
   },
   "source": [
    "## Intermediate regex"
   ]
  },
  {
   "cell_type": "markdown",
   "id": "e56413e8",
   "metadata": {
    "slideshow": {
     "slide_type": "slide"
    }
   },
   "source": [
    "### More regex syntax\n",
    "\n",
    "| operation | example | matches ✅ | does not match ❌ |\n",
    "|:--- |:---|:---|:---|\n",
    "| <span style='color:purple'><b>wildcard</b></span> | `.U.U.U.` | `'CUMULUS'`<br>`'JUGULUM'` | `'SUCCUBUS'`<br>`'TUMULTUOUS'` |\n",
    "| <span style='color:purple'><b>character class</b></span>  | `[A-Za-z][a-z]*` | `'word'`<br>`'Capitalized'` | `'camelCase'`<br>`'4illegal'` |\n",
    "| <span style='color:purple'><b>at least one</b></span> | `bi(ll)+y` | `'billy'`<br>`'billlllly'` | `'biy'`<br>`'bily'` |\n",
    "| <span style='color:purple'><b>between $i$ and $j$ occurrences</b></span> | `m[aeiou]{1,2}m` | `'mem'`<br>`'maam'`<br>`'miem'` | `'mm'`<br>`'mooom'`<br>`'meme'` |\n",
    "\n",
    "`.`, `[`, `]`, `+`, `{`, and `}` are also special characters, in addition to `|`, `(`, `)`, and `*`.\n",
    "\n",
    "***Example (character classes, at least one)***: `[A-E]+` is just shortform for `(A|B|C|D|E)(A|B|C|D|E)*`."
   ]
  },
  {
   "cell_type": "markdown",
   "id": "03f2a857",
   "metadata": {
    "slideshow": {
     "slide_type": "slide"
    }
   },
   "source": [
    "***Example (wildcard)***: \n",
    "- What does `.` match? \n",
    "- What does `he.` match? \n",
    "- What does `...` match?"
   ]
  },
  {
   "cell_type": "markdown",
   "id": "9cb36eef",
   "metadata": {
    "slideshow": {
     "slide_type": "slide"
    }
   },
   "source": [
    "***Example (at least one, closure)***: \n",
    "- What does `123+` match?\n",
    "- What does `123*` match?"
   ]
  },
  {
   "cell_type": "markdown",
   "id": "b287df75",
   "metadata": {
    "slideshow": {
     "slide_type": "slide"
    }
   },
   "source": [
    "***Example (number of occurrences)***: What does `tri{3, 5}` match? Does it match `'triiiii'`?"
   ]
  },
  {
   "cell_type": "markdown",
   "id": "663024dd",
   "metadata": {
    "slideshow": {
     "slide_type": "slide"
    }
   },
   "source": [
    "***Example (character classes, number of occurrences)***:\n",
    "What does `[1-6a-f]{3}-[7-9E-S]{2}` match?"
   ]
  },
  {
   "cell_type": "markdown",
   "id": "58621dcf",
   "metadata": {
    "slideshow": {
     "slide_type": "slide"
    }
   },
   "source": [
    "<div class=\"alert alert-warning\">\n",
    "    <h3>Question 🤔 (Answer at <a href=\"https://dsc80.com/q\">dsc80.com/q</a>)</h3>\n",
    "\n",
    "Code: `vowels`\n",
    "</div>\n",
    "\n",
    "Write a regular expression that matches any lowercase string has a repeated vowel, such as `'noon'`, `'peel'`, `'festoon'`, or `'zeebraa'`."
   ]
  },
  {
   "cell_type": "code",
   "execution_count": null,
   "id": "df954d0b-6bc7-44df-a29a-30c894be58c2",
   "metadata": {},
   "outputs": [],
   "source": []
  },
  {
   "cell_type": "markdown",
   "id": "60e0c674",
   "metadata": {
    "slideshow": {
     "slide_type": "slide"
    }
   },
   "source": [
    "<div class=\"alert alert-warning\">\n",
    "    <h3>Question 🤔 (Answer at <a href=\"https://dsc80.com/q\">dsc80.com/q</a>)</h3>\n",
    "\n",
    "Code: `letnum`\n",
    "</div>\n",
    "    \n",
    "Write a regular expression that matches any string that contains **both** a lowercase letter and a number, in any order. Examples include `'billy80'`, `'80!!billy'`, and `'bil8ly0'`.\n"
   ]
  },
  {
   "cell_type": "code",
   "execution_count": null,
   "id": "deed5205-1b6a-4ff3-9c94-b1bc8faa60fb",
   "metadata": {},
   "outputs": [],
   "source": []
  },
  {
   "cell_type": "markdown",
   "id": "68e84227",
   "metadata": {
    "slideshow": {
     "slide_type": "slide"
    }
   },
   "source": [
    "### Even more regex syntax\n",
    "\n",
    "| operation | example | matches ✅ | does not match ❌ |\n",
    "|:--- |:---|:---|:---|\n",
    "| <span style='color:purple'><b>escape character</b></span> | `ucsd\\.edu` | `'ucsd.edu'` | `'ucsd!edu'` |\n",
    "| <span style='color:purple'><b>beginning of line</b></span> | `^ark` | `'ark two'`<br>`'ark o ark'` | `'dark'` |\n",
    "| <span style='color:purple'><b>end of line</b></span>  | `ark$` | `'dark'`<br>`'ark o ark'` | `'ark two'` |\n",
    "| <span style='color:purple'><b>zero or one</b></span> | `cat?` | `'ca'`<br>`'cat'` | `'cart'` (matches `'ca'` only) |\n",
    "| <span style='color:purple'><b>built-in character classes*</b></span> | `\\w+` <br> `\\d+` | `'billy'`<br>`'231231'` | `'this person'`<br>`'858 people'` |\n",
    "| <span style='color:purple'><b>character class negation</b></span> | `[^a-z]+` | `'KINGTRITON551'`<br>`'1721$$'` | `'porch'`<br>`'billy.edu'` |"
   ]
  },
  {
   "cell_type": "markdown",
   "id": "e2f3607a",
   "metadata": {
    "slideshow": {
     "slide_type": "fragment"
    }
   },
   "source": [
    "****Note***: in Python's implementation of regex,\n",
    "- `\\d` refers to digits.\n",
    "- `\\w` refers to alphanumeric characters (`[A-Z][a-z][0-9]_`). **Whenever we say \"alphanumeric\" in an assignment, we're referring to `\\w`!**\n",
    "- `\\s` refers to whitespace.\n",
    "- `\\b` is a word boundary."
   ]
  },
  {
   "cell_type": "markdown",
   "id": "a81d04ac",
   "metadata": {
    "slideshow": {
     "slide_type": "slide"
    }
   },
   "source": [
    "***Example (escaping)***: \n",
    "- What does `he.` match? \n",
    "- What does `he\\.` match? \n",
    "- What does `(858)` match? \n",
    "- What does `\\(858\\)` match?"
   ]
  },
  {
   "cell_type": "markdown",
   "id": "8ac36be0",
   "metadata": {
    "slideshow": {
     "slide_type": "slide"
    }
   },
   "source": [
    "***Example (anchors)***: \n",
    "- What does `858-534` match?\n",
    "- What does `^858-534` match?\n",
    "- What does `858-534$` match?"
   ]
  },
  {
   "cell_type": "markdown",
   "id": "254814d6",
   "metadata": {
    "slideshow": {
     "slide_type": "slide"
    }
   },
   "source": [
    "***Example (built-in character classes)***:\n",
    "\n",
    "- What does `\\d{3} \\d{3}-\\d{4}` match?\n",
    "- What does `\\bcat\\b` match? Does it find a match in `'my cat is hungry'`? What about `'concatenate'` or `'kitty cat'`?\n",
    "\n",
    "<br>\n",
    "\n",
    "Remember, in Python's implementation of regex,\n",
    "- `\\d` refers to digits.\n",
    "- `\\w` refers to alphanumeric characters (`[A-Z][a-z][0-9]_`). **Whenever we say \"alphanumeric\" in an assignment, we're referring to `\\w`!**\n",
    "- `\\s` refers to whitespace.\n",
    "- `\\b` is a word boundary."
   ]
  },
  {
   "cell_type": "markdown",
   "id": "ceb205bd",
   "metadata": {
    "slideshow": {
     "slide_type": "slide"
    }
   },
   "source": [
    "<div class=\"alert alert-warning\">\n",
    "    <h3>Question 🤔 (Answer at <a href=\"https://dsc80.com/q\">dsc80.com/q</a>)</h3>\n",
    "\n",
    "Code: `vowels2`\n",
    "</div>\n",
    "    \n",
    "Write a regular expression that matches any string that:\n",
    "- is between 5 and 10 characters long, and\n",
    "- is made up of only vowels (either uppercase or lowercase, including `'Y'` and `'y'`), periods, and spaces.\n",
    "\n",
    "Examples include `'yoo.ee.IOU'` and `'AI.I oey'`.\n"
   ]
  },
  {
   "cell_type": "code",
   "execution_count": null,
   "id": "28b4c2f2-0dc1-4020-9f48-a0b4cea2a2d5",
   "metadata": {},
   "outputs": [],
   "source": []
  },
  {
   "cell_type": "markdown",
   "id": "4c945280",
   "metadata": {
    "slideshow": {
     "slide_type": "slide"
    }
   },
   "source": [
    "## Regex in Python"
   ]
  },
  {
   "cell_type": "markdown",
   "id": "530b3f99",
   "metadata": {
    "slideshow": {
     "slide_type": "slide"
    }
   },
   "source": [
    "### `re` in Python\n",
    "\n",
    "The `re` package is built into Python. It allows us to use regular expressions to find, extract, and replace strings."
   ]
  },
  {
   "cell_type": "code",
   "execution_count": null,
   "id": "4e345803",
   "metadata": {},
   "outputs": [],
   "source": [
    "import re"
   ]
  },
  {
   "cell_type": "markdown",
   "id": "b79f7824",
   "metadata": {
    "slideshow": {
     "slide_type": "fragment"
    }
   },
   "source": [
    "`re.search` takes in a string `regex` and a string `text` and returns the location and substring corresponding to the **first** match of `regex` in `text`."
   ]
  },
  {
   "cell_type": "code",
   "execution_count": null,
   "id": "5951a080",
   "metadata": {},
   "outputs": [],
   "source": [
    "re.search('AB*A', \n",
    "          'here is a string for you: ABBBA. here is another: ABBBBBBBA')"
   ]
  },
  {
   "cell_type": "markdown",
   "id": "b9b96b4c",
   "metadata": {
    "slideshow": {
     "slide_type": "fragment"
    }
   },
   "source": [
    "`re.findall` takes in a string `regex` and a string `text` and returns a list of all matches of `regex` in `text`. **You'll use this most often.**"
   ]
  },
  {
   "cell_type": "code",
   "execution_count": null,
   "id": "c925fc4c",
   "metadata": {},
   "outputs": [],
   "source": [
    "re.findall('AB*A', \n",
    "           'here is a string for you: ABBBA. here is another: ABBBBBBBA')"
   ]
  },
  {
   "cell_type": "markdown",
   "id": "fa1f6f86",
   "metadata": {
    "slideshow": {
     "slide_type": "fragment"
    }
   },
   "source": [
    "`re.sub` takes in a string `regex`, a string `repl`, and a string `text`, and replaces all matches of `regex` in `text` with `repl`."
   ]
  },
  {
   "cell_type": "code",
   "execution_count": null,
   "id": "299f12c1",
   "metadata": {},
   "outputs": [],
   "source": [
    "re.sub('AB*A', \n",
    "       'billy', \n",
    "       'here is a string for you: ABBBA. here is another: ABBBBBBBA')"
   ]
  },
  {
   "cell_type": "markdown",
   "id": "0a4f19f7",
   "metadata": {
    "slideshow": {
     "slide_type": "slide"
    }
   },
   "source": [
    "### Raw strings\n",
    "\n",
    "When using regular expressions in Python, it's a good idea to use **raw strings**, denoted by an `r` before the quotes, e.g. `r'exp'`."
   ]
  },
  {
   "cell_type": "code",
   "execution_count": null,
   "id": "59189302",
   "metadata": {
    "slideshow": {
     "slide_type": "-"
    }
   },
   "outputs": [],
   "source": [
    "re.findall('\\bcat\\b', 'my cat is hungry')"
   ]
  },
  {
   "cell_type": "code",
   "execution_count": null,
   "id": "575ad059",
   "metadata": {},
   "outputs": [],
   "source": [
    "re.findall(r'\\bcat\\b', 'my cat is hungry')"
   ]
  },
  {
   "cell_type": "code",
   "execution_count": null,
   "id": "3d418165",
   "metadata": {},
   "outputs": [],
   "source": [
    "# Huh?\n",
    "print('\\bcat\\b')"
   ]
  },
  {
   "cell_type": "markdown",
   "id": "fb79937f",
   "metadata": {
    "slideshow": {
     "slide_type": "slide"
    }
   },
   "source": [
    "### Capture groups\n",
    "* Surround a regex with `(` and `)` to define a **capture group** within a pattern.\n",
    "- Capture groups are useful for extracting relevant parts of a string."
   ]
  },
  {
   "cell_type": "code",
   "execution_count": null,
   "id": "cc7a31d3",
   "metadata": {},
   "outputs": [],
   "source": [
    "re.findall(r'\\w+@(\\w+)\\.edu', \n",
    "           'my old email was billy@notucsd.edu, my new email is notbilly@ucsd.edu')"
   ]
  },
  {
   "cell_type": "markdown",
   "id": "23a894cb",
   "metadata": {},
   "source": [
    "- Notice what happens if we remove the `(` and `)`!"
   ]
  },
  {
   "cell_type": "code",
   "execution_count": null,
   "id": "9ec23800",
   "metadata": {
    "scrolled": true
   },
   "outputs": [],
   "source": [
    "re.findall(r'\\w+@\\w+\\.edu', \n",
    "           'my old email was billy@notucsd.edu, my new email is notbilly@ucsd.edu')"
   ]
  },
  {
   "cell_type": "markdown",
   "id": "4141a59e",
   "metadata": {},
   "source": [
    "- Earlier, we also saw that parentheses can be used to group parts of a regex together. When using `re.findall`, all groups are treated as capturing groups."
   ]
  },
  {
   "cell_type": "code",
   "execution_count": null,
   "id": "6b4fa612",
   "metadata": {},
   "outputs": [],
   "source": [
    "# A regex that matches strings with two of the same vowel followed by 3 digits\n",
    "# We only want to capture the digits, but...\n",
    "re.findall(r'(aa|ee|ii|oo|uu)(\\d{3})', 'eeoo124')"
   ]
  },
  {
   "cell_type": "markdown",
   "id": "4c752441",
   "metadata": {
    "slideshow": {
     "slide_type": "slide"
    }
   },
   "source": [
    "### Example: Log parsing\n",
    "\n",
    "Web servers typically record every request made of them in the \"logs\"."
   ]
  },
  {
   "cell_type": "code",
   "execution_count": null,
   "id": "46d1dcc3",
   "metadata": {
    "slideshow": {
     "slide_type": "-"
    }
   },
   "outputs": [],
   "source": [
    "s = '''132.249.20.188 - - [24/Feb/2023:12:26:15 -0800] \"GET /my/home/ HTTP/1.1\" 200 2585'''"
   ]
  },
  {
   "cell_type": "markdown",
   "id": "d7c7b00a",
   "metadata": {},
   "source": [
    "Let's use our new regex syntax (including capturing groups) to extract the day, month, year, and time from the log string `s`."
   ]
  },
  {
   "cell_type": "code",
   "execution_count": null,
   "id": "abff9776",
   "metadata": {},
   "outputs": [],
   "source": [
    "exp = r'\\[(.+)\\/(.+)\\/(.+):(.+):(.+):(.+) .+\\]'\n",
    "re.findall(exp, s)"
   ]
  },
  {
   "cell_type": "markdown",
   "id": "426932e2",
   "metadata": {
    "slideshow": {
     "slide_type": "fragment"
    }
   },
   "source": [
    "While above regex works, it is not very **specific**. It _works_ on incorrectly formatted log strings."
   ]
  },
  {
   "cell_type": "code",
   "execution_count": null,
   "id": "9226de42",
   "metadata": {},
   "outputs": [],
   "source": [
    "other_s = '[adr/jduy/wffsdffs:r4s4:4wsgdfd:asdf 7]'\n",
    "re.findall(exp, other_s)"
   ]
  },
  {
   "cell_type": "markdown",
   "id": "0a645d57",
   "metadata": {
    "slideshow": {
     "slide_type": "slide"
    }
   },
   "source": [
    "### The more specific, the better!    "
   ]
  },
  {
   "cell_type": "markdown",
   "id": "03affa61",
   "metadata": {
    "slideshow": {
     "slide_type": "fragment"
    }
   },
   "source": [
    "- Be as specific in your pattern matching as possible – you don't want to match and extract strings that don't fit the pattern you care about.\n",
    "    - `.*` matches every possible string, but we don't use it very often.\n"
   ]
  },
  {
   "cell_type": "markdown",
   "id": "973ee8eb",
   "metadata": {
    "slideshow": {
     "slide_type": "fragment"
    }
   },
   "source": [
    "- A better date extraction regex:\n",
    "```\n",
    "\\[(\\d{2})\\/([A-Z]{1}[a-z]{2})\\/(\\d{4}):(\\d{2}):(\\d{2}):(\\d{2}) -\\d{4}\\]\n",
    "```\n",
    "    - `\\d{2}` matches any 2-digit number.\n",
    "    - `[A-Z]{1}` matches any single occurrence of any uppercase letter.\n",
    "    - `[a-z]{2}` matches any 2 consecutive occurrences of lowercase letters.\n",
    "    - Remember, special characters (`[`, `]`, `/`) need to be escaped with `\\`."
   ]
  },
  {
   "cell_type": "code",
   "execution_count": null,
   "id": "60a3e026",
   "metadata": {},
   "outputs": [],
   "source": [
    "s"
   ]
  },
  {
   "cell_type": "code",
   "execution_count": null,
   "id": "0f07f175",
   "metadata": {},
   "outputs": [],
   "source": [
    "new_exp = r'\\[(\\d{2})\\/([A-Z]{1}[a-z]{2})\\/(\\d{4}):(\\d{2}):(\\d{2}):(\\d{2}) -\\d{4}\\]'\n",
    "re.findall(new_exp, s)"
   ]
  },
  {
   "cell_type": "markdown",
   "id": "d23bde76",
   "metadata": {},
   "source": [
    "A benefit of `new_exp` over `exp` is that it doesn't capture anything when the string doesn't follow the format we specified."
   ]
  },
  {
   "cell_type": "code",
   "execution_count": null,
   "id": "4b43ad1f",
   "metadata": {},
   "outputs": [],
   "source": [
    "other_s"
   ]
  },
  {
   "cell_type": "code",
   "execution_count": null,
   "id": "2fc12ac1",
   "metadata": {},
   "outputs": [],
   "source": [
    "re.findall(new_exp, other_s)"
   ]
  },
  {
   "cell_type": "markdown",
   "id": "64f1e916",
   "metadata": {
    "slideshow": {
     "slide_type": "slide"
    }
   },
   "source": [
    "<div class=\"alert alert-warning\">\n",
    "    <h3>Question 🤔 (Answer at <a href=\"https://dsc80.com/q\">dsc80.com/q</a>)</h3>\n",
    "\n",
    "Code: `weird_re`\n",
    "</div>\n",
    "    \n",
    "`^\\w{2,5}.\\d*\\/[^A-Z5]{1,}`\n",
    "\n",
    "Select all strings below that contain any match with the regular expression above.\n",
    "\n",
    "- `\"billy4/Za\"`\n",
    "- `\"billy4/za\"`\n",
    "- `\"DAI_s2154/pacific\"`\n",
    "- `\"daisy/ZZZZZ\"`\n",
    "- `\"bi_/_lly98\"`\n",
    "- `\"!@__!14/atlantic\"`"
   ]
  },
  {
   "cell_type": "markdown",
   "id": "26521adc",
   "metadata": {
    "slideshow": {
     "slide_type": "slide"
    }
   },
   "source": [
    "### Limitations of regular expressions\n",
    "\n",
    "Writing a regular expression is like writing a program.\n",
    "* You need to know the syntax well.\n",
    "* They can be easier to write than to read.\n",
    "* They can be difficult to debug.\n",
    "\n",
    "Regular expressions are terrible at certain types of problems. Examples:\n",
    "* Anything involving counting (same number of instances of a and b).\n",
    "* Anything involving complex structure (palindromes).\n",
    "* Parsing highly complex text structure ([HTML](https://stackoverflow.com/questions/1732348/regex-match-open-tags-except-xhtml-self-contained-tags), for instance)."
   ]
  },
  {
   "cell_type": "markdown",
   "id": "b47ced6f",
   "metadata": {
    "slideshow": {
     "slide_type": "slide"
    }
   },
   "source": [
    "## Summary, next time"
   ]
  },
  {
   "cell_type": "markdown",
   "id": "a8b47b3f",
   "metadata": {
    "slideshow": {
     "slide_type": "slide"
    }
   },
   "source": [
    "### Summary\n",
    "\n",
    "- Regular expressions are used to match and extract patterns from text.\n",
    "- You don't need to force yourself to \"memorize\" regex syntax – refer to the resources in the Agenda section of the lecture and on the Resources tab of the course website.\n",
    "- Also refer to the three tables of syntax in the lecture:\n",
    "    - [Regex building blocks](#Regex-building-blocks-%F0%9F%A7%B1).\n",
    "    - [More regex syntax](#More-regex-syntax).\n",
    "    - [Even more regex syntax](#Even-more-regex-syntax).\n",
    "- Note: You don't always have to use regular expressions! If Python/pandas string methods work for your task, you can still use those.\n",
    "    - Play [Regex Golf](https://alf.nu/RegexGolf?world=regex&level=r00) to practice! 🏌️\n",
    "- `pandas` `.str` methods can use regular expressions; just set `regex=True`."
   ]
  },
  {
   "cell_type": "markdown",
   "id": "1fdd4466",
   "metadata": {
    "slideshow": {
     "slide_type": "slide"
    }
   },
   "source": [
    "### Next time\n",
    "\n",
    "- Text features: Bag of words, TF-IDF"
   ]
  }
 ],
 "metadata": {
  "kernelspec": {
   "display_name": "Python 3 (ipykernel)",
   "language": "python",
   "name": "python3"
  },
  "language_info": {
   "codemirror_mode": {
    "name": "ipython",
    "version": 3
   },
   "file_extension": ".py",
   "mimetype": "text/x-python",
   "name": "python",
   "nbconvert_exporter": "python",
   "pygments_lexer": "ipython3",
   "version": "3.12.7"
  },
  "livereveal": {
   "scroll": true
  },
  "rise": {
   "transition": "none"
  }
 },
 "nbformat": 4,
 "nbformat_minor": 5
}
